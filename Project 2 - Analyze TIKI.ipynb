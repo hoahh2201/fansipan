{
 "cells": [
  {
   "cell_type": "code",
   "execution_count": 91,
   "metadata": {},
   "outputs": [],
   "source": [
    "import pandas as pd\n",
    "import requests\n",
    "import psycopg2\n",
    "import time\n",
    "from bs4 import BeautifulSoup\n",
    "import matplotlib.pyplot as plt\n",
    "import numpy as np\n",
    "from matplotlib.pyplot import figure\n",
    "\n",
    "\n",
    "import plotly\n",
    "import chart_studio\n",
    "chart_studio.tools.set_credentials_file(username='thechain', api_key='Tb4kz7txNipqO2nmLwaB')\n",
    "import chart_studio.plotly as py\n",
    "import plotly.graph_objs as go\n",
    "import plotly.io as pio\n",
    "import plotly.express as px"
   ]
  },
  {
   "cell_type": "code",
   "execution_count": 2,
   "metadata": {},
   "outputs": [],
   "source": [
    "def parser(url):\n",
    "    \"\"\"Get a parsed version of an URL\"\"\"\n",
    "    # Get an URL\n",
    "    try:\n",
    "      res = requests.get(url)\n",
    "    except Exception as err:\n",
    "      print('There was a problem: {}'.format(err))\n",
    "    \n",
    "    #Parse the URL above\n",
    "    soup = BeautifulSoup(res.text)\n",
    "    \n",
    "    return soup"
   ]
  },
  {
   "cell_type": "code",
   "execution_count": 3,
   "metadata": {},
   "outputs": [],
   "source": [
    "def get_urls(url):\n",
    "    \"\"\"Get the URLs of all categories on Tiki homepage\"\"\"\n",
    "    categ_list = []\n",
    "    \n",
    "    # Parse the URL\n",
    "    s = parser(url)\n",
    "    \n",
    "    # Take url and category then add them into List\n",
    "    for i in s.find_all('a', class_='MenuItem__MenuLink-tii3xq-1 efuIbv'):\n",
    "        url = i.get('href')\n",
    "        category = i.find('span', class_='text').text\n",
    "        categ_list.append((category, url))\n",
    "        \n",
    "    return categ_list\n",
    "        "
   ]
  },
  {
   "cell_type": "code",
   "execution_count": 4,
   "metadata": {},
   "outputs": [],
   "source": [
    "def scrape(cat, url):\n",
    "    \"\"\"Scrape product information of all products on a page\"\"\"\n",
    "    # Initialize an empty list\n",
    "    results = []\n",
    "    \n",
    "    # Parse\n",
    "    s = parser(url)\n",
    "    \n",
    "    # Find all DIV TAG with class =  'product item'\n",
    "    product_items = s.find_all('div', class_='product-item')\n",
    "    \n",
    "    # If there is no item return empty list, otherwise, take each of element from list, then take specific points in this element\n",
    "    if product_items == 0:\n",
    "        return []\n",
    "    else:\n",
    "        for product_item in product_items:\n",
    "            # get data for rating and review - because they have in once tag\n",
    "            rating = 0\n",
    "            review = 0\n",
    "            tiki_now = 0\n",
    "            if len(product_item.select(\".rating-content span\")) > 0:\n",
    "                rating = product_item.select_one(\".rating-content span\")[\"style\"].split(':')[1].replace(\"%\", \"\")\n",
    "                if product_item.select_one(\".review\").text.split()[0][1:].isdigit():\n",
    "                    review = product_item.select_one(\".review\").text.split()[0][1:]\n",
    "                else:\n",
    "                    review = 0\n",
    "            \n",
    "            if '<i class=\"tikicon icon-tikinow-20\"></i>' in str(product_item): \n",
    "                tiki_now = 1\n",
    "        \n",
    "            row = [product_item['data-id'],\n",
    "                   product_item['data-seller-product-id'],\n",
    "                   product_item['data-title'],\n",
    "                   product_item['data-price'],\n",
    "                   product_item['data-brand'], #new\n",
    "                   product_item.img['src'],\n",
    "                   tiki_now,\n",
    "                   #product_item.i['class'][0], #'tikicon' means TIKI_NOW\n",
    "                   rating,\n",
    "                   review,\n",
    "                   cat\n",
    "                   #product_item.find('p', class_='review').text.split()[0][1:] #tag p - class review - split - take the first - from position 1\n",
    "                  ]\n",
    "            results.append(row)\n",
    "#         for product_item in product_items:\n",
    "#             row = [product_item['data-id'],\n",
    "#                    product_item['data-seller-product-id'],\n",
    "#                    product_item['data-title'],\n",
    "#                    product_item['data-price'],\n",
    "#                    product_item.img['src'],\n",
    "#                    cat\n",
    "#                   ]\n",
    "#             results.append(row)\n",
    "            \n",
    "    return results"
   ]
  },
  {
   "cell_type": "code",
   "execution_count": 5,
   "metadata": {},
   "outputs": [],
   "source": [
    "def scrape_all():\n",
    "    \"\"\"Scrape all products on Tiki!\"\"\"\n",
    "    print('INFO scrape_all(): Start craping')\n",
    "    \n",
    "    # Initialize empty 'queue' list with the value of get_urls() function\n",
    "    queue = get_urls('https://tiki.vn')\n",
    "    \n",
    "    # Initialize empty list\n",
    "    results = []\n",
    "    \n",
    "    # Set page = 1 as default\n",
    "    page = 1\n",
    "    \n",
    "    # Take the last category in the list, then Pop it until there is no category \n",
    "    while len(queue) > 0:\n",
    "        url = queue[len(queue)-1][1]\n",
    "        cat = queue[len(queue)-1][0]\n",
    "        queue.pop()\n",
    "        \n",
    "        print(url)\n",
    "        print('Scraping', cat)\n",
    "        \n",
    "        # Take a list of item in 1 page\n",
    "        new_rows = scrape(cat, url)\n",
    "        print(len(new_rows))\n",
    "        \n",
    "        # if this current page has product, continue to take product on next page until no product\n",
    "        if len(new_rows) > 0:\n",
    "            results += new_rows\n",
    "            #page = int(url[url.rfind('&page=')+6:]) + 1\n",
    "            #url = url[:url.rfind('&page=')+6] + str(page)\n",
    "            page += 1\n",
    "            url = url.split('&page=')[0] + \"&page=\" + str(page)\n",
    "            print('Scraping', cat, ' Page:', page)\n",
    "            # The last element of this list [category, link] is always the link of current page\n",
    "            queue.append([cat, url])\n",
    "        else:\n",
    "            page = 1\n",
    "          \n",
    "    return results       "
   ]
  },
  {
   "cell_type": "code",
   "execution_count": 6,
   "metadata": {},
   "outputs": [],
   "source": [
    "def get_connection():\n",
    "    connection = psycopg2.connect(user = \"postgres\",\n",
    "                                  password = 'P@ssword130',\n",
    "                                  host = \"localhost\",\n",
    "                                  port = \"5432\",\n",
    "                                  database = \"postgres\")\n",
    "    return connection"
   ]
  },
  {
   "cell_type": "code",
   "execution_count": 7,
   "metadata": {},
   "outputs": [],
   "source": [
    "def create_products_table():\n",
    "    \n",
    "    print('INFO create_products_table(): Create table products')\n",
    "    \n",
    "    try:\n",
    "        # Create connection & cursor\n",
    "        connection = get_connection()\n",
    "        cursor = connection.cursor()\n",
    "        \n",
    "        # Execute the query\n",
    "        cursor.execute('CREATE TABLE IF NOT EXISTS Products_RAW ('\n",
    "                           'ProductID TEXT,'\n",
    "                           'Seller_ID TEXT,'\n",
    "                           'ProductName TEXT,'\n",
    "                           'Price TEXT,'\n",
    "                           'Brand TEXT,'\n",
    "                           'Image TEXT,'\n",
    "                           'Tiki_Now TEXT,'\n",
    "                           'Rating TEXT,'\n",
    "                           'Comment TEXT,'\n",
    "                           'Category TEXT'\n",
    "                      ')')\n",
    "        \n",
    "        cursor.execute('CREATE TABLE IF NOT EXISTS Users ('\n",
    "                          'UserID INTEGER PRIMARY KEY'\n",
    "                      ')')\n",
    "        \n",
    "        cursor.execute('CREATE TABLE IF NOT EXISTS Comments ('\n",
    "                          'CommentID INTEGER PRIMARY KEY'\n",
    "                      ')')\n",
    "        # Commit the changes made to our database\n",
    "        connection.commit()\n",
    "\n",
    "    except (Exception, psycopg2.Error) as error :\n",
    "        print (\"ERROR create_products_table(): Error while connecting to PostgreSQL\", error)\n",
    "        \n",
    "        # In case of error, cancel all changes made to our database during the connection\n",
    "        connection.cancel()\n",
    "        return\n",
    "    \n",
    "    finally:\n",
    "    \n",
    "        # Close the connection & cursor\n",
    "        cursor.close()\n",
    "        connection.close()"
   ]
  },
  {
   "cell_type": "code",
   "execution_count": 8,
   "metadata": {},
   "outputs": [],
   "source": [
    "def insert_data_to_db(data, table_name):\n",
    "    \n",
    "    print('INFO insert_data_to_db(): Insert data to DB')\n",
    "    \n",
    "    try:\n",
    "        # Create connection & cursor \n",
    "        connection = get_connection()\n",
    "        cursor = connection.cursor()\n",
    "        \n",
    "        # For each row (product) in data (product page),...\n",
    "        for row in data:\n",
    "            # Execute the query with each row in list data\n",
    "            cursor.execute('INSERT INTO '+table_name+' VALUES(%s, %s, %s, %s, %s, %s, %s, %s, %s, %s);', row)\n",
    "            \n",
    "            # Commit the changes made to our database\n",
    "            connection.commit()\n",
    "\n",
    "    except (Exception, psycopg2.Error) as error :\n",
    "        print (\"ERROR save_data_to_db(): Error while connecting to PostgreSQL\", error)\n",
    "        \n",
    "        # In case of error, cancel all changes made to our database during the connection\n",
    "        connection.cancel()\n",
    "        \n",
    "    finally:\n",
    "        \n",
    "        # Close the connection & cursor\n",
    "        cursor.close()\n",
    "        connection.close()"
   ]
  },
  {
   "cell_type": "code",
   "execution_count": 169,
   "metadata": {},
   "outputs": [],
   "source": [
    "def select_data_from_db():\n",
    "    \n",
    "    try:\n",
    "        # Create connection & cursor \n",
    "        connection = get_connection()\n",
    "        cursor = connection.cursor()\n",
    "        \n",
    "        \n",
    "        # Get all data from table 'products'\n",
    "        query = ''\n",
    "        conti = 1\n",
    "        print('Start to Analyze TIKI ...')\n",
    "#         time.sleep(3)\n",
    "        \n",
    "        while conti == 1:\n",
    "            print('Choose your chart:')\n",
    "            print('1 - Total products in each category')\n",
    "            print('2 - Compare total products and TIKI NOW service applied for each category')\n",
    "            print('3 - Compare total products, rating and price for each category')\n",
    "            print('4 - Compare Rating and Interesting for each category')\n",
    "            \n",
    "            statement = int(input('Input your choose: '))\n",
    "            plt.figure(figsize=(20,20))\n",
    "            \n",
    "            if statement == 1:\n",
    "                # Prepare Data\n",
    "                query = 'SELECT Category, COUNT(ProductID) AS Item FROM Products GROUP BY Category'\n",
    "                cursor.execute(query)\n",
    "                data = cursor.fetchall()\n",
    "\n",
    "                # Draw Chart\n",
    "                #plt.figure(figsize=(15,15)) #fix size of this chart\n",
    "\n",
    "                df = pd.DataFrame( [[ij for ij in i] for i in data] ) #create DataFrame from result of query\n",
    "                df.rename(columns={0: 'Category', 1: 'Item'}, inplace=True); #Rename column in DataFrame\n",
    "                df = df.sort_values(['Item'], ascending=[1]); #Sort in DataFrame\n",
    "\n",
    "                fig = px.bar(df, x='Category', y='Item',\n",
    "                             hover_data=['Category', 'Item'], color='Item',\n",
    "                             labels={'pop':'Amount of products in each category'}, height=600)\n",
    "                fig.show()\n",
    "                \n",
    "            elif statement == 2:\n",
    "                # Prepare Data\n",
    "                query = 'SELECT Category, COUNT(ProductID) AS Item, SUM(Tiki_Now) AS TIKINOW FROM Products GROUP BY Category'\n",
    "                cursor.execute(query)\n",
    "                data = cursor.fetchall()\n",
    "                \n",
    "\n",
    "                #DataFrame1 for Item\n",
    "                df = pd.DataFrame( [[ij for ij in i] for i in data] ) #create DataFrame from result of query\n",
    "                df.rename(columns={0: 'Category', 1: 'Item', 2: 'TIKINOW'}, inplace=True); #Rename column in DataFrame\n",
    "                df = df.sort_values(['Item'], ascending=[1]); #Sort in DataFrame\n",
    "\n",
    "                # Draw Chart\n",
    "                #plt.figure(figsize=(15,15))\n",
    "                \n",
    "                fig = go.Figure()\n",
    "                # Add 2 bar charts together\n",
    "                fig.add_trace(go.Bar(\n",
    "                    x=df['Category'],\n",
    "                    y=df['Item'],\n",
    "                    name='Item',\n",
    "                    marker_color='indigo'\n",
    "                ))\n",
    "                fig.add_trace(go.Bar(\n",
    "                    x=df['Category'],\n",
    "                    y=df['TIKINOW'],\n",
    "                    name='Tiki NOW',\n",
    "                    marker_color='blueviolet'\n",
    "                ))\n",
    "\n",
    "                # Here we modify the tickangle of the xaxis, resulting in rotated labels.\n",
    "                fig.update_layout(barmode='group')\n",
    "                fig.show()\n",
    "                \n",
    "            elif statement == 3:   \n",
    "                # Prepare Data\n",
    "                query = 'SELECT Category, COUNT(ProductID) AS Item, AVG(Rating)/20 AS Star, AVG(Price) AS Price FROM Products GROUP BY Category'\n",
    "                cursor.execute(query)\n",
    "                data = cursor.fetchall()\n",
    "                \n",
    "                # Draw Chart\n",
    "                #plt.figure(figsize=(15,15)) #fix size of this chart\n",
    "\n",
    "                df = pd.DataFrame( [[ij for ij in i] for i in data] ) #create DataFrame from result of query\n",
    "                df.rename(columns={0: 'Category', 1: 'Item', 2: 'Star', 3: 'Price'}, inplace=True); #Rename column in DataFrame\n",
    "                \n",
    "                fig = px.scatter(df, x=\"Price\", y=\"Star\", \n",
    "                                 size=\"Item\", \n",
    "                                 color=\"Category\",\n",
    "                                 hover_name=\"Item\", \n",
    "                                 log_x=True, size_max=60)\n",
    "                fig.show()\n",
    "            \n",
    "            elif statement == 4:\n",
    "                # Prepare Data\n",
    "                query = 'SELECT Category, AVG(Rating)/20 AS Star, AVG(Comment) AS Comment FROM Products WHERE Rating > 0 AND Comment > 0 GROUP BY Category'\n",
    "                cursor.execute(query)\n",
    "                data = cursor.fetchall()\n",
    "                \n",
    "                # Draw Chart\n",
    "                #plt.figure(figsize=(15,15)) #fix size of this chart\n",
    "\n",
    "                df = pd.DataFrame( [[ij for ij in i] for i in data] ) #create DataFrame from result of query\n",
    "                df.rename(columns={0: 'Category', 1: 'Star', 2: 'Comment'}, inplace=True);\n",
    "                df = df.sort_values(['Star'], ascending=[0]);\n",
    "                \n",
    "                fig = go.Figure()\n",
    "                fig.add_trace(go.Bar(\n",
    "                    y=df['Category'],\n",
    "                    x=df['Star'],\n",
    "                    name='Rating',\n",
    "                    orientation='h',\n",
    "                    marker=dict(\n",
    "                        color='rgba(246, 78, 139, 0.6)',\n",
    "                        line=dict(color='rgba(246, 78, 139, 1.0)', width=3)\n",
    "                    )\n",
    "                ))\n",
    "                fig.add_trace(go.Bar(\n",
    "                    y=df['Category'],\n",
    "                    x=df['Comment'],\n",
    "                    name='Interesting',\n",
    "                    orientation='h',\n",
    "                    marker=dict(\n",
    "                        color='rgba(58, 71, 80, 0.6)',\n",
    "                        line=dict(color='rgba(58, 71, 80, 1.0)', width=3)\n",
    "                    )\n",
    "                ))\n",
    "\n",
    "                fig.update_layout(barmode='stack')\n",
    "                fig.show()\n",
    "            \n",
    "            conti = int(input('Do you want to continue to analyze? : 1 - Yes || 0 - No, that is enough information: '))\n",
    "            \n",
    "\n",
    "    except (Exception, psycopg2.Error) as error :\n",
    "        print (\"ERROR save_data_to_db(): Error while connecting to PostgreSQL\", error)\n",
    "        \n",
    "        # In case of error, cancel all changes made to our database during the connection\n",
    "        connection.cancel()\n",
    "        \n",
    "    finally:\n",
    "        \n",
    "        # Close the connection & cursor\n",
    "        cursor.close()\n",
    "        connection.close()"
   ]
  },
  {
   "cell_type": "code",
   "execution_count": 170,
   "metadata": {
    "scrolled": false
   },
   "outputs": [
    {
     "name": "stdout",
     "output_type": "stream",
     "text": [
      "Start to Analyze TIKI ...\n",
      "Choose your chart:\n",
      "1 - Total products in each category\n",
      "2 - Compare total products and TIKI NOW service applied for each category\n",
      "3 - Compare total products, rating and price for each category\n",
      "Input your choose: 1\n"
     ]
    },
    {
     "data": {
      "application/vnd.plotly.v1+json": {
       "config": {
        "plotlyServerURL": "https://plot.ly"
       },
       "data": [
        {
         "alignmentgroup": "True",
         "customdata": [
          [
           "Điện Thoại - Máy Tính Bảng",
           903
          ],
          [
           "Voucher - Dịch Vụ - Thẻ Cào",
           3606
          ],
          [
           "Điện Tử - Điện Lạnh",
           4862
          ],
          [
           "Máy Ảnh - Quay Phim",
           7326
          ],
          [
           "Hàng quốc tế",
           7658
          ],
          [
           "Laptop - Thiết bị IT",
           7697
          ],
          [
           "Điện Gia Dụng",
           7860
          ],
          [
           "Xe Máy, Ô tô, Xe Đạp",
           7871
          ],
          [
           "Thể Thao - Dã Ngoại",
           7909
          ],
          [
           "Phụ Kiện - Thiết Bị Số",
           8893
          ],
          [
           "Thời trang - Phụ kiện",
           8893
          ],
          [
           "Hàng Tiêu Dùng - Thực Phẩm",
           9067
          ],
          [
           "Đồ chơi, Mẹ & Bé",
           9155
          ],
          [
           "Nhà Cửa Đời Sống",
           9420
          ],
          [
           "Làm Đẹp - Sức Khỏe",
           9527
          ],
          [
           "Sách, VPP & Quà Tặng",
           9855
          ]
         ],
         "hoverlabel": {
          "namelength": 0
         },
         "hovertemplate": "Category=%{customdata[0]}<br>Item=%{marker.color}",
         "legendgroup": "",
         "marker": {
          "color": [
           903,
           3606,
           4862,
           7326,
           7658,
           7697,
           7860,
           7871,
           7909,
           8893,
           8893,
           9067,
           9155,
           9420,
           9527,
           9855
          ],
          "coloraxis": "coloraxis"
         },
         "name": "",
         "offsetgroup": "",
         "orientation": "v",
         "showlegend": false,
         "textposition": "auto",
         "type": "bar",
         "x": [
          "Điện Thoại - Máy Tính Bảng",
          "Voucher - Dịch Vụ - Thẻ Cào",
          "Điện Tử - Điện Lạnh",
          "Máy Ảnh - Quay Phim",
          "Hàng quốc tế",
          "Laptop - Thiết bị IT",
          "Điện Gia Dụng",
          "Xe Máy, Ô tô, Xe Đạp",
          "Thể Thao - Dã Ngoại",
          "Phụ Kiện - Thiết Bị Số",
          "Thời trang - Phụ kiện",
          "Hàng Tiêu Dùng - Thực Phẩm",
          "Đồ chơi, Mẹ & Bé",
          "Nhà Cửa Đời Sống",
          "Làm Đẹp - Sức Khỏe",
          "Sách, VPP & Quà Tặng"
         ],
         "xaxis": "x",
         "y": [
          903,
          3606,
          4862,
          7326,
          7658,
          7697,
          7860,
          7871,
          7909,
          8893,
          8893,
          9067,
          9155,
          9420,
          9527,
          9855
         ],
         "yaxis": "y"
        }
       ],
       "layout": {
        "barmode": "relative",
        "coloraxis": {
         "colorbar": {
          "title": {
           "text": "Item"
          }
         },
         "colorscale": [
          [
           0,
           "#0d0887"
          ],
          [
           0.1111111111111111,
           "#46039f"
          ],
          [
           0.2222222222222222,
           "#7201a8"
          ],
          [
           0.3333333333333333,
           "#9c179e"
          ],
          [
           0.4444444444444444,
           "#bd3786"
          ],
          [
           0.5555555555555556,
           "#d8576b"
          ],
          [
           0.6666666666666666,
           "#ed7953"
          ],
          [
           0.7777777777777778,
           "#fb9f3a"
          ],
          [
           0.8888888888888888,
           "#fdca26"
          ],
          [
           1,
           "#f0f921"
          ]
         ]
        },
        "height": 600,
        "legend": {
         "tracegroupgap": 0
        },
        "margin": {
         "t": 60
        },
        "template": {
         "data": {
          "bar": [
           {
            "error_x": {
             "color": "#2a3f5f"
            },
            "error_y": {
             "color": "#2a3f5f"
            },
            "marker": {
             "line": {
              "color": "#E5ECF6",
              "width": 0.5
             }
            },
            "type": "bar"
           }
          ],
          "barpolar": [
           {
            "marker": {
             "line": {
              "color": "#E5ECF6",
              "width": 0.5
             }
            },
            "type": "barpolar"
           }
          ],
          "carpet": [
           {
            "aaxis": {
             "endlinecolor": "#2a3f5f",
             "gridcolor": "white",
             "linecolor": "white",
             "minorgridcolor": "white",
             "startlinecolor": "#2a3f5f"
            },
            "baxis": {
             "endlinecolor": "#2a3f5f",
             "gridcolor": "white",
             "linecolor": "white",
             "minorgridcolor": "white",
             "startlinecolor": "#2a3f5f"
            },
            "type": "carpet"
           }
          ],
          "choropleth": [
           {
            "colorbar": {
             "outlinewidth": 0,
             "ticks": ""
            },
            "type": "choropleth"
           }
          ],
          "contour": [
           {
            "colorbar": {
             "outlinewidth": 0,
             "ticks": ""
            },
            "colorscale": [
             [
              0,
              "#0d0887"
             ],
             [
              0.1111111111111111,
              "#46039f"
             ],
             [
              0.2222222222222222,
              "#7201a8"
             ],
             [
              0.3333333333333333,
              "#9c179e"
             ],
             [
              0.4444444444444444,
              "#bd3786"
             ],
             [
              0.5555555555555556,
              "#d8576b"
             ],
             [
              0.6666666666666666,
              "#ed7953"
             ],
             [
              0.7777777777777778,
              "#fb9f3a"
             ],
             [
              0.8888888888888888,
              "#fdca26"
             ],
             [
              1,
              "#f0f921"
             ]
            ],
            "type": "contour"
           }
          ],
          "contourcarpet": [
           {
            "colorbar": {
             "outlinewidth": 0,
             "ticks": ""
            },
            "type": "contourcarpet"
           }
          ],
          "heatmap": [
           {
            "colorbar": {
             "outlinewidth": 0,
             "ticks": ""
            },
            "colorscale": [
             [
              0,
              "#0d0887"
             ],
             [
              0.1111111111111111,
              "#46039f"
             ],
             [
              0.2222222222222222,
              "#7201a8"
             ],
             [
              0.3333333333333333,
              "#9c179e"
             ],
             [
              0.4444444444444444,
              "#bd3786"
             ],
             [
              0.5555555555555556,
              "#d8576b"
             ],
             [
              0.6666666666666666,
              "#ed7953"
             ],
             [
              0.7777777777777778,
              "#fb9f3a"
             ],
             [
              0.8888888888888888,
              "#fdca26"
             ],
             [
              1,
              "#f0f921"
             ]
            ],
            "type": "heatmap"
           }
          ],
          "heatmapgl": [
           {
            "colorbar": {
             "outlinewidth": 0,
             "ticks": ""
            },
            "colorscale": [
             [
              0,
              "#0d0887"
             ],
             [
              0.1111111111111111,
              "#46039f"
             ],
             [
              0.2222222222222222,
              "#7201a8"
             ],
             [
              0.3333333333333333,
              "#9c179e"
             ],
             [
              0.4444444444444444,
              "#bd3786"
             ],
             [
              0.5555555555555556,
              "#d8576b"
             ],
             [
              0.6666666666666666,
              "#ed7953"
             ],
             [
              0.7777777777777778,
              "#fb9f3a"
             ],
             [
              0.8888888888888888,
              "#fdca26"
             ],
             [
              1,
              "#f0f921"
             ]
            ],
            "type": "heatmapgl"
           }
          ],
          "histogram": [
           {
            "marker": {
             "colorbar": {
              "outlinewidth": 0,
              "ticks": ""
             }
            },
            "type": "histogram"
           }
          ],
          "histogram2d": [
           {
            "colorbar": {
             "outlinewidth": 0,
             "ticks": ""
            },
            "colorscale": [
             [
              0,
              "#0d0887"
             ],
             [
              0.1111111111111111,
              "#46039f"
             ],
             [
              0.2222222222222222,
              "#7201a8"
             ],
             [
              0.3333333333333333,
              "#9c179e"
             ],
             [
              0.4444444444444444,
              "#bd3786"
             ],
             [
              0.5555555555555556,
              "#d8576b"
             ],
             [
              0.6666666666666666,
              "#ed7953"
             ],
             [
              0.7777777777777778,
              "#fb9f3a"
             ],
             [
              0.8888888888888888,
              "#fdca26"
             ],
             [
              1,
              "#f0f921"
             ]
            ],
            "type": "histogram2d"
           }
          ],
          "histogram2dcontour": [
           {
            "colorbar": {
             "outlinewidth": 0,
             "ticks": ""
            },
            "colorscale": [
             [
              0,
              "#0d0887"
             ],
             [
              0.1111111111111111,
              "#46039f"
             ],
             [
              0.2222222222222222,
              "#7201a8"
             ],
             [
              0.3333333333333333,
              "#9c179e"
             ],
             [
              0.4444444444444444,
              "#bd3786"
             ],
             [
              0.5555555555555556,
              "#d8576b"
             ],
             [
              0.6666666666666666,
              "#ed7953"
             ],
             [
              0.7777777777777778,
              "#fb9f3a"
             ],
             [
              0.8888888888888888,
              "#fdca26"
             ],
             [
              1,
              "#f0f921"
             ]
            ],
            "type": "histogram2dcontour"
           }
          ],
          "mesh3d": [
           {
            "colorbar": {
             "outlinewidth": 0,
             "ticks": ""
            },
            "type": "mesh3d"
           }
          ],
          "parcoords": [
           {
            "line": {
             "colorbar": {
              "outlinewidth": 0,
              "ticks": ""
             }
            },
            "type": "parcoords"
           }
          ],
          "scatter": [
           {
            "marker": {
             "colorbar": {
              "outlinewidth": 0,
              "ticks": ""
             }
            },
            "type": "scatter"
           }
          ],
          "scatter3d": [
           {
            "line": {
             "colorbar": {
              "outlinewidth": 0,
              "ticks": ""
             }
            },
            "marker": {
             "colorbar": {
              "outlinewidth": 0,
              "ticks": ""
             }
            },
            "type": "scatter3d"
           }
          ],
          "scattercarpet": [
           {
            "marker": {
             "colorbar": {
              "outlinewidth": 0,
              "ticks": ""
             }
            },
            "type": "scattercarpet"
           }
          ],
          "scattergeo": [
           {
            "marker": {
             "colorbar": {
              "outlinewidth": 0,
              "ticks": ""
             }
            },
            "type": "scattergeo"
           }
          ],
          "scattergl": [
           {
            "marker": {
             "colorbar": {
              "outlinewidth": 0,
              "ticks": ""
             }
            },
            "type": "scattergl"
           }
          ],
          "scattermapbox": [
           {
            "marker": {
             "colorbar": {
              "outlinewidth": 0,
              "ticks": ""
             }
            },
            "type": "scattermapbox"
           }
          ],
          "scatterpolar": [
           {
            "marker": {
             "colorbar": {
              "outlinewidth": 0,
              "ticks": ""
             }
            },
            "type": "scatterpolar"
           }
          ],
          "scatterpolargl": [
           {
            "marker": {
             "colorbar": {
              "outlinewidth": 0,
              "ticks": ""
             }
            },
            "type": "scatterpolargl"
           }
          ],
          "scatterternary": [
           {
            "marker": {
             "colorbar": {
              "outlinewidth": 0,
              "ticks": ""
             }
            },
            "type": "scatterternary"
           }
          ],
          "surface": [
           {
            "colorbar": {
             "outlinewidth": 0,
             "ticks": ""
            },
            "colorscale": [
             [
              0,
              "#0d0887"
             ],
             [
              0.1111111111111111,
              "#46039f"
             ],
             [
              0.2222222222222222,
              "#7201a8"
             ],
             [
              0.3333333333333333,
              "#9c179e"
             ],
             [
              0.4444444444444444,
              "#bd3786"
             ],
             [
              0.5555555555555556,
              "#d8576b"
             ],
             [
              0.6666666666666666,
              "#ed7953"
             ],
             [
              0.7777777777777778,
              "#fb9f3a"
             ],
             [
              0.8888888888888888,
              "#fdca26"
             ],
             [
              1,
              "#f0f921"
             ]
            ],
            "type": "surface"
           }
          ],
          "table": [
           {
            "cells": {
             "fill": {
              "color": "#EBF0F8"
             },
             "line": {
              "color": "white"
             }
            },
            "header": {
             "fill": {
              "color": "#C8D4E3"
             },
             "line": {
              "color": "white"
             }
            },
            "type": "table"
           }
          ]
         },
         "layout": {
          "annotationdefaults": {
           "arrowcolor": "#2a3f5f",
           "arrowhead": 0,
           "arrowwidth": 1
          },
          "colorscale": {
           "diverging": [
            [
             0,
             "#8e0152"
            ],
            [
             0.1,
             "#c51b7d"
            ],
            [
             0.2,
             "#de77ae"
            ],
            [
             0.3,
             "#f1b6da"
            ],
            [
             0.4,
             "#fde0ef"
            ],
            [
             0.5,
             "#f7f7f7"
            ],
            [
             0.6,
             "#e6f5d0"
            ],
            [
             0.7,
             "#b8e186"
            ],
            [
             0.8,
             "#7fbc41"
            ],
            [
             0.9,
             "#4d9221"
            ],
            [
             1,
             "#276419"
            ]
           ],
           "sequential": [
            [
             0,
             "#0d0887"
            ],
            [
             0.1111111111111111,
             "#46039f"
            ],
            [
             0.2222222222222222,
             "#7201a8"
            ],
            [
             0.3333333333333333,
             "#9c179e"
            ],
            [
             0.4444444444444444,
             "#bd3786"
            ],
            [
             0.5555555555555556,
             "#d8576b"
            ],
            [
             0.6666666666666666,
             "#ed7953"
            ],
            [
             0.7777777777777778,
             "#fb9f3a"
            ],
            [
             0.8888888888888888,
             "#fdca26"
            ],
            [
             1,
             "#f0f921"
            ]
           ],
           "sequentialminus": [
            [
             0,
             "#0d0887"
            ],
            [
             0.1111111111111111,
             "#46039f"
            ],
            [
             0.2222222222222222,
             "#7201a8"
            ],
            [
             0.3333333333333333,
             "#9c179e"
            ],
            [
             0.4444444444444444,
             "#bd3786"
            ],
            [
             0.5555555555555556,
             "#d8576b"
            ],
            [
             0.6666666666666666,
             "#ed7953"
            ],
            [
             0.7777777777777778,
             "#fb9f3a"
            ],
            [
             0.8888888888888888,
             "#fdca26"
            ],
            [
             1,
             "#f0f921"
            ]
           ]
          },
          "colorway": [
           "#636efa",
           "#EF553B",
           "#00cc96",
           "#ab63fa",
           "#FFA15A",
           "#19d3f3",
           "#FF6692",
           "#B6E880",
           "#FF97FF",
           "#FECB52"
          ],
          "font": {
           "color": "#2a3f5f"
          },
          "geo": {
           "bgcolor": "white",
           "lakecolor": "white",
           "landcolor": "#E5ECF6",
           "showlakes": true,
           "showland": true,
           "subunitcolor": "white"
          },
          "hoverlabel": {
           "align": "left"
          },
          "hovermode": "closest",
          "mapbox": {
           "style": "light"
          },
          "paper_bgcolor": "white",
          "plot_bgcolor": "#E5ECF6",
          "polar": {
           "angularaxis": {
            "gridcolor": "white",
            "linecolor": "white",
            "ticks": ""
           },
           "bgcolor": "#E5ECF6",
           "radialaxis": {
            "gridcolor": "white",
            "linecolor": "white",
            "ticks": ""
           }
          },
          "scene": {
           "xaxis": {
            "backgroundcolor": "#E5ECF6",
            "gridcolor": "white",
            "gridwidth": 2,
            "linecolor": "white",
            "showbackground": true,
            "ticks": "",
            "zerolinecolor": "white"
           },
           "yaxis": {
            "backgroundcolor": "#E5ECF6",
            "gridcolor": "white",
            "gridwidth": 2,
            "linecolor": "white",
            "showbackground": true,
            "ticks": "",
            "zerolinecolor": "white"
           },
           "zaxis": {
            "backgroundcolor": "#E5ECF6",
            "gridcolor": "white",
            "gridwidth": 2,
            "linecolor": "white",
            "showbackground": true,
            "ticks": "",
            "zerolinecolor": "white"
           }
          },
          "shapedefaults": {
           "line": {
            "color": "#2a3f5f"
           }
          },
          "ternary": {
           "aaxis": {
            "gridcolor": "white",
            "linecolor": "white",
            "ticks": ""
           },
           "baxis": {
            "gridcolor": "white",
            "linecolor": "white",
            "ticks": ""
           },
           "bgcolor": "#E5ECF6",
           "caxis": {
            "gridcolor": "white",
            "linecolor": "white",
            "ticks": ""
           }
          },
          "title": {
           "x": 0.05
          },
          "xaxis": {
           "automargin": true,
           "gridcolor": "white",
           "linecolor": "white",
           "ticks": "",
           "zerolinecolor": "white",
           "zerolinewidth": 2
          },
          "yaxis": {
           "automargin": true,
           "gridcolor": "white",
           "linecolor": "white",
           "ticks": "",
           "zerolinecolor": "white",
           "zerolinewidth": 2
          }
         }
        },
        "xaxis": {
         "anchor": "y",
         "domain": [
          0,
          0.98
         ],
         "title": {
          "text": "Category"
         }
        },
        "yaxis": {
         "anchor": "x",
         "domain": [
          0,
          1
         ],
         "title": {
          "text": "Item"
         }
        }
       }
      },
      "text/html": [
       "<div>\n",
       "        \n",
       "        \n",
       "            <div id=\"115b23ea-474d-4186-95d4-78dda7642b1e\" class=\"plotly-graph-div\" style=\"height:600px; width:100%;\"></div>\n",
       "            <script type=\"text/javascript\">\n",
       "                require([\"plotly\"], function(Plotly) {\n",
       "                    window.PLOTLYENV=window.PLOTLYENV || {};\n",
       "                    \n",
       "                if (document.getElementById(\"115b23ea-474d-4186-95d4-78dda7642b1e\")) {\n",
       "                    Plotly.newPlot(\n",
       "                        '115b23ea-474d-4186-95d4-78dda7642b1e',\n",
       "                        [{\"alignmentgroup\": \"True\", \"customdata\": [[\"\\u0110i\\u1ec7n Tho\\u1ea1i - M\\u00e1y T\\u00ednh B\\u1ea3ng\", 903], [\"Voucher - D\\u1ecbch V\\u1ee5 - Th\\u1ebb C\\u00e0o\", 3606], [\"\\u0110i\\u1ec7n T\\u1eed - \\u0110i\\u1ec7n L\\u1ea1nh\", 4862], [\"M\\u00e1y \\u1ea2nh - Quay Phim\", 7326], [\"H\\u00e0ng qu\\u1ed1c t\\u1ebf\", 7658], [\"Laptop - Thi\\u1ebft b\\u1ecb IT\", 7697], [\"\\u0110i\\u1ec7n Gia D\\u1ee5ng\", 7860], [\"Xe M\\u00e1y, \\u00d4 t\\u00f4, Xe \\u0110\\u1ea1p\", 7871], [\"Th\\u1ec3 Thao - D\\u00e3 Ngo\\u1ea1i\", 7909], [\"Ph\\u1ee5 Ki\\u1ec7n - Thi\\u1ebft B\\u1ecb S\\u1ed1\", 8893], [\"Th\\u1eddi trang - Ph\\u1ee5 ki\\u1ec7n\", 8893], [\"H\\u00e0ng Ti\\u00eau D\\u00f9ng - Th\\u1ef1c Ph\\u1ea9m\", 9067], [\"\\u0110\\u1ed3 ch\\u01a1i, M\\u1eb9 & B\\u00e9\", 9155], [\"Nh\\u00e0 C\\u1eeda \\u0110\\u1eddi S\\u1ed1ng\", 9420], [\"L\\u00e0m \\u0110\\u1eb9p - S\\u1ee9c Kh\\u1ecfe\", 9527], [\"S\\u00e1ch, VPP & Qu\\u00e0 T\\u1eb7ng\", 9855]], \"hoverlabel\": {\"namelength\": 0}, \"hovertemplate\": \"Category=%{customdata[0]}<br>Item=%{marker.color}\", \"legendgroup\": \"\", \"marker\": {\"color\": [903, 3606, 4862, 7326, 7658, 7697, 7860, 7871, 7909, 8893, 8893, 9067, 9155, 9420, 9527, 9855], \"coloraxis\": \"coloraxis\"}, \"name\": \"\", \"offsetgroup\": \"\", \"orientation\": \"v\", \"showlegend\": false, \"textposition\": \"auto\", \"type\": \"bar\", \"x\": [\"\\u0110i\\u1ec7n Tho\\u1ea1i - M\\u00e1y T\\u00ednh B\\u1ea3ng\", \"Voucher - D\\u1ecbch V\\u1ee5 - Th\\u1ebb C\\u00e0o\", \"\\u0110i\\u1ec7n T\\u1eed - \\u0110i\\u1ec7n L\\u1ea1nh\", \"M\\u00e1y \\u1ea2nh - Quay Phim\", \"H\\u00e0ng qu\\u1ed1c t\\u1ebf\", \"Laptop - Thi\\u1ebft b\\u1ecb IT\", \"\\u0110i\\u1ec7n Gia D\\u1ee5ng\", \"Xe M\\u00e1y, \\u00d4 t\\u00f4, Xe \\u0110\\u1ea1p\", \"Th\\u1ec3 Thao - D\\u00e3 Ngo\\u1ea1i\", \"Ph\\u1ee5 Ki\\u1ec7n - Thi\\u1ebft B\\u1ecb S\\u1ed1\", \"Th\\u1eddi trang - Ph\\u1ee5 ki\\u1ec7n\", \"H\\u00e0ng Ti\\u00eau D\\u00f9ng - Th\\u1ef1c Ph\\u1ea9m\", \"\\u0110\\u1ed3 ch\\u01a1i, M\\u1eb9 & B\\u00e9\", \"Nh\\u00e0 C\\u1eeda \\u0110\\u1eddi S\\u1ed1ng\", \"L\\u00e0m \\u0110\\u1eb9p - S\\u1ee9c Kh\\u1ecfe\", \"S\\u00e1ch, VPP & Qu\\u00e0 T\\u1eb7ng\"], \"xaxis\": \"x\", \"y\": [903, 3606, 4862, 7326, 7658, 7697, 7860, 7871, 7909, 8893, 8893, 9067, 9155, 9420, 9527, 9855], \"yaxis\": \"y\"}],\n",
       "                        {\"barmode\": \"relative\", \"coloraxis\": {\"colorbar\": {\"title\": {\"text\": \"Item\"}}, \"colorscale\": [[0.0, \"#0d0887\"], [0.1111111111111111, \"#46039f\"], [0.2222222222222222, \"#7201a8\"], [0.3333333333333333, \"#9c179e\"], [0.4444444444444444, \"#bd3786\"], [0.5555555555555556, \"#d8576b\"], [0.6666666666666666, \"#ed7953\"], [0.7777777777777778, \"#fb9f3a\"], [0.8888888888888888, \"#fdca26\"], [1.0, \"#f0f921\"]]}, \"height\": 600, \"legend\": {\"tracegroupgap\": 0}, \"margin\": {\"t\": 60}, \"template\": {\"data\": {\"bar\": [{\"error_x\": {\"color\": \"#2a3f5f\"}, \"error_y\": {\"color\": \"#2a3f5f\"}, \"marker\": {\"line\": {\"color\": \"#E5ECF6\", \"width\": 0.5}}, \"type\": \"bar\"}], \"barpolar\": [{\"marker\": {\"line\": {\"color\": \"#E5ECF6\", \"width\": 0.5}}, \"type\": \"barpolar\"}], \"carpet\": [{\"aaxis\": {\"endlinecolor\": \"#2a3f5f\", \"gridcolor\": \"white\", \"linecolor\": \"white\", \"minorgridcolor\": \"white\", \"startlinecolor\": \"#2a3f5f\"}, \"baxis\": {\"endlinecolor\": \"#2a3f5f\", \"gridcolor\": \"white\", \"linecolor\": \"white\", \"minorgridcolor\": \"white\", \"startlinecolor\": \"#2a3f5f\"}, \"type\": \"carpet\"}], \"choropleth\": [{\"colorbar\": {\"outlinewidth\": 0, \"ticks\": \"\"}, \"type\": \"choropleth\"}], \"contour\": [{\"colorbar\": {\"outlinewidth\": 0, \"ticks\": \"\"}, \"colorscale\": [[0.0, \"#0d0887\"], [0.1111111111111111, \"#46039f\"], [0.2222222222222222, \"#7201a8\"], [0.3333333333333333, \"#9c179e\"], [0.4444444444444444, \"#bd3786\"], [0.5555555555555556, \"#d8576b\"], [0.6666666666666666, \"#ed7953\"], [0.7777777777777778, \"#fb9f3a\"], [0.8888888888888888, \"#fdca26\"], [1.0, \"#f0f921\"]], \"type\": \"contour\"}], \"contourcarpet\": [{\"colorbar\": {\"outlinewidth\": 0, \"ticks\": \"\"}, \"type\": \"contourcarpet\"}], \"heatmap\": [{\"colorbar\": {\"outlinewidth\": 0, \"ticks\": \"\"}, \"colorscale\": [[0.0, \"#0d0887\"], [0.1111111111111111, \"#46039f\"], [0.2222222222222222, \"#7201a8\"], [0.3333333333333333, \"#9c179e\"], [0.4444444444444444, \"#bd3786\"], [0.5555555555555556, \"#d8576b\"], [0.6666666666666666, \"#ed7953\"], [0.7777777777777778, \"#fb9f3a\"], [0.8888888888888888, \"#fdca26\"], [1.0, \"#f0f921\"]], \"type\": \"heatmap\"}], \"heatmapgl\": [{\"colorbar\": {\"outlinewidth\": 0, \"ticks\": \"\"}, \"colorscale\": [[0.0, \"#0d0887\"], [0.1111111111111111, \"#46039f\"], [0.2222222222222222, \"#7201a8\"], [0.3333333333333333, \"#9c179e\"], [0.4444444444444444, \"#bd3786\"], [0.5555555555555556, \"#d8576b\"], [0.6666666666666666, \"#ed7953\"], [0.7777777777777778, \"#fb9f3a\"], [0.8888888888888888, \"#fdca26\"], [1.0, \"#f0f921\"]], \"type\": \"heatmapgl\"}], \"histogram\": [{\"marker\": {\"colorbar\": {\"outlinewidth\": 0, \"ticks\": \"\"}}, \"type\": \"histogram\"}], \"histogram2d\": [{\"colorbar\": {\"outlinewidth\": 0, \"ticks\": \"\"}, \"colorscale\": [[0.0, \"#0d0887\"], [0.1111111111111111, \"#46039f\"], [0.2222222222222222, \"#7201a8\"], [0.3333333333333333, \"#9c179e\"], [0.4444444444444444, \"#bd3786\"], [0.5555555555555556, \"#d8576b\"], [0.6666666666666666, \"#ed7953\"], [0.7777777777777778, \"#fb9f3a\"], [0.8888888888888888, \"#fdca26\"], [1.0, \"#f0f921\"]], \"type\": \"histogram2d\"}], \"histogram2dcontour\": [{\"colorbar\": {\"outlinewidth\": 0, \"ticks\": \"\"}, \"colorscale\": [[0.0, \"#0d0887\"], [0.1111111111111111, \"#46039f\"], [0.2222222222222222, \"#7201a8\"], [0.3333333333333333, \"#9c179e\"], [0.4444444444444444, \"#bd3786\"], [0.5555555555555556, \"#d8576b\"], [0.6666666666666666, \"#ed7953\"], [0.7777777777777778, \"#fb9f3a\"], [0.8888888888888888, \"#fdca26\"], [1.0, \"#f0f921\"]], \"type\": \"histogram2dcontour\"}], \"mesh3d\": [{\"colorbar\": {\"outlinewidth\": 0, \"ticks\": \"\"}, \"type\": \"mesh3d\"}], \"parcoords\": [{\"line\": {\"colorbar\": {\"outlinewidth\": 0, \"ticks\": \"\"}}, \"type\": \"parcoords\"}], \"scatter\": [{\"marker\": {\"colorbar\": {\"outlinewidth\": 0, \"ticks\": \"\"}}, \"type\": \"scatter\"}], \"scatter3d\": [{\"line\": {\"colorbar\": {\"outlinewidth\": 0, \"ticks\": \"\"}}, \"marker\": {\"colorbar\": {\"outlinewidth\": 0, \"ticks\": \"\"}}, \"type\": \"scatter3d\"}], \"scattercarpet\": [{\"marker\": {\"colorbar\": {\"outlinewidth\": 0, \"ticks\": \"\"}}, \"type\": \"scattercarpet\"}], \"scattergeo\": [{\"marker\": {\"colorbar\": {\"outlinewidth\": 0, \"ticks\": \"\"}}, \"type\": \"scattergeo\"}], \"scattergl\": [{\"marker\": {\"colorbar\": {\"outlinewidth\": 0, \"ticks\": \"\"}}, \"type\": \"scattergl\"}], \"scattermapbox\": [{\"marker\": {\"colorbar\": {\"outlinewidth\": 0, \"ticks\": \"\"}}, \"type\": \"scattermapbox\"}], \"scatterpolar\": [{\"marker\": {\"colorbar\": {\"outlinewidth\": 0, \"ticks\": \"\"}}, \"type\": \"scatterpolar\"}], \"scatterpolargl\": [{\"marker\": {\"colorbar\": {\"outlinewidth\": 0, \"ticks\": \"\"}}, \"type\": \"scatterpolargl\"}], \"scatterternary\": [{\"marker\": {\"colorbar\": {\"outlinewidth\": 0, \"ticks\": \"\"}}, \"type\": \"scatterternary\"}], \"surface\": [{\"colorbar\": {\"outlinewidth\": 0, \"ticks\": \"\"}, \"colorscale\": [[0.0, \"#0d0887\"], [0.1111111111111111, \"#46039f\"], [0.2222222222222222, \"#7201a8\"], [0.3333333333333333, \"#9c179e\"], [0.4444444444444444, \"#bd3786\"], [0.5555555555555556, \"#d8576b\"], [0.6666666666666666, \"#ed7953\"], [0.7777777777777778, \"#fb9f3a\"], [0.8888888888888888, \"#fdca26\"], [1.0, \"#f0f921\"]], \"type\": \"surface\"}], \"table\": [{\"cells\": {\"fill\": {\"color\": \"#EBF0F8\"}, \"line\": {\"color\": \"white\"}}, \"header\": {\"fill\": {\"color\": \"#C8D4E3\"}, \"line\": {\"color\": \"white\"}}, \"type\": \"table\"}]}, \"layout\": {\"annotationdefaults\": {\"arrowcolor\": \"#2a3f5f\", \"arrowhead\": 0, \"arrowwidth\": 1}, \"colorscale\": {\"diverging\": [[0, \"#8e0152\"], [0.1, \"#c51b7d\"], [0.2, \"#de77ae\"], [0.3, \"#f1b6da\"], [0.4, \"#fde0ef\"], [0.5, \"#f7f7f7\"], [0.6, \"#e6f5d0\"], [0.7, \"#b8e186\"], [0.8, \"#7fbc41\"], [0.9, \"#4d9221\"], [1, \"#276419\"]], \"sequential\": [[0.0, \"#0d0887\"], [0.1111111111111111, \"#46039f\"], [0.2222222222222222, \"#7201a8\"], [0.3333333333333333, \"#9c179e\"], [0.4444444444444444, \"#bd3786\"], [0.5555555555555556, \"#d8576b\"], [0.6666666666666666, \"#ed7953\"], [0.7777777777777778, \"#fb9f3a\"], [0.8888888888888888, \"#fdca26\"], [1.0, \"#f0f921\"]], \"sequentialminus\": [[0.0, \"#0d0887\"], [0.1111111111111111, \"#46039f\"], [0.2222222222222222, \"#7201a8\"], [0.3333333333333333, \"#9c179e\"], [0.4444444444444444, \"#bd3786\"], [0.5555555555555556, \"#d8576b\"], [0.6666666666666666, \"#ed7953\"], [0.7777777777777778, \"#fb9f3a\"], [0.8888888888888888, \"#fdca26\"], [1.0, \"#f0f921\"]]}, \"colorway\": [\"#636efa\", \"#EF553B\", \"#00cc96\", \"#ab63fa\", \"#FFA15A\", \"#19d3f3\", \"#FF6692\", \"#B6E880\", \"#FF97FF\", \"#FECB52\"], \"font\": {\"color\": \"#2a3f5f\"}, \"geo\": {\"bgcolor\": \"white\", \"lakecolor\": \"white\", \"landcolor\": \"#E5ECF6\", \"showlakes\": true, \"showland\": true, \"subunitcolor\": \"white\"}, \"hoverlabel\": {\"align\": \"left\"}, \"hovermode\": \"closest\", \"mapbox\": {\"style\": \"light\"}, \"paper_bgcolor\": \"white\", \"plot_bgcolor\": \"#E5ECF6\", \"polar\": {\"angularaxis\": {\"gridcolor\": \"white\", \"linecolor\": \"white\", \"ticks\": \"\"}, \"bgcolor\": \"#E5ECF6\", \"radialaxis\": {\"gridcolor\": \"white\", \"linecolor\": \"white\", \"ticks\": \"\"}}, \"scene\": {\"xaxis\": {\"backgroundcolor\": \"#E5ECF6\", \"gridcolor\": \"white\", \"gridwidth\": 2, \"linecolor\": \"white\", \"showbackground\": true, \"ticks\": \"\", \"zerolinecolor\": \"white\"}, \"yaxis\": {\"backgroundcolor\": \"#E5ECF6\", \"gridcolor\": \"white\", \"gridwidth\": 2, \"linecolor\": \"white\", \"showbackground\": true, \"ticks\": \"\", \"zerolinecolor\": \"white\"}, \"zaxis\": {\"backgroundcolor\": \"#E5ECF6\", \"gridcolor\": \"white\", \"gridwidth\": 2, \"linecolor\": \"white\", \"showbackground\": true, \"ticks\": \"\", \"zerolinecolor\": \"white\"}}, \"shapedefaults\": {\"line\": {\"color\": \"#2a3f5f\"}}, \"ternary\": {\"aaxis\": {\"gridcolor\": \"white\", \"linecolor\": \"white\", \"ticks\": \"\"}, \"baxis\": {\"gridcolor\": \"white\", \"linecolor\": \"white\", \"ticks\": \"\"}, \"bgcolor\": \"#E5ECF6\", \"caxis\": {\"gridcolor\": \"white\", \"linecolor\": \"white\", \"ticks\": \"\"}}, \"title\": {\"x\": 0.05}, \"xaxis\": {\"automargin\": true, \"gridcolor\": \"white\", \"linecolor\": \"white\", \"ticks\": \"\", \"zerolinecolor\": \"white\", \"zerolinewidth\": 2}, \"yaxis\": {\"automargin\": true, \"gridcolor\": \"white\", \"linecolor\": \"white\", \"ticks\": \"\", \"zerolinecolor\": \"white\", \"zerolinewidth\": 2}}}, \"xaxis\": {\"anchor\": \"y\", \"domain\": [0.0, 0.98], \"title\": {\"text\": \"Category\"}}, \"yaxis\": {\"anchor\": \"x\", \"domain\": [0.0, 1.0], \"title\": {\"text\": \"Item\"}}},\n",
       "                        {\"responsive\": true}\n",
       "                    ).then(function(){\n",
       "                            \n",
       "var gd = document.getElementById('115b23ea-474d-4186-95d4-78dda7642b1e');\n",
       "var x = new MutationObserver(function (mutations, observer) {{\n",
       "        var display = window.getComputedStyle(gd).display;\n",
       "        if (!display || display === 'none') {{\n",
       "            console.log([gd, 'removed!']);\n",
       "            Plotly.purge(gd);\n",
       "            observer.disconnect();\n",
       "        }}\n",
       "}});\n",
       "\n",
       "// Listen for the removal of the full notebook cells\n",
       "var notebookContainer = gd.closest('#notebook-container');\n",
       "if (notebookContainer) {{\n",
       "    x.observe(notebookContainer, {childList: true});\n",
       "}}\n",
       "\n",
       "// Listen for the clearing of the current output cell\n",
       "var outputEl = gd.closest('.output');\n",
       "if (outputEl) {{\n",
       "    x.observe(outputEl, {childList: true});\n",
       "}}\n",
       "\n",
       "                        })\n",
       "                };\n",
       "                });\n",
       "            </script>\n",
       "        </div>"
      ]
     },
     "metadata": {},
     "output_type": "display_data"
    },
    {
     "name": "stdout",
     "output_type": "stream",
     "text": [
      "Do you want to continue to analyze? : 1 - Yes || 0 - No, that is enough information: 1\n",
      "Choose your chart:\n",
      "1 - Total products in each category\n",
      "2 - Compare total products and TIKI NOW service applied for each category\n",
      "3 - Compare total products, rating and price for each category\n",
      "Input your choose: 2\n"
     ]
    },
    {
     "data": {
      "application/vnd.plotly.v1+json": {
       "config": {
        "plotlyServerURL": "https://plot.ly"
       },
       "data": [
        {
         "marker": {
          "color": "indigo"
         },
         "name": "Item",
         "type": "bar",
         "x": [
          "Điện Thoại - Máy Tính Bảng",
          "Voucher - Dịch Vụ - Thẻ Cào",
          "Điện Tử - Điện Lạnh",
          "Máy Ảnh - Quay Phim",
          "Hàng quốc tế",
          "Laptop - Thiết bị IT",
          "Điện Gia Dụng",
          "Xe Máy, Ô tô, Xe Đạp",
          "Thể Thao - Dã Ngoại",
          "Phụ Kiện - Thiết Bị Số",
          "Thời trang - Phụ kiện",
          "Hàng Tiêu Dùng - Thực Phẩm",
          "Đồ chơi, Mẹ & Bé",
          "Nhà Cửa Đời Sống",
          "Làm Đẹp - Sức Khỏe",
          "Sách, VPP & Quà Tặng"
         ],
         "y": [
          903,
          3606,
          4862,
          7326,
          7658,
          7697,
          7860,
          7871,
          7909,
          8893,
          8893,
          9067,
          9155,
          9420,
          9527,
          9855
         ]
        },
        {
         "marker": {
          "color": "blueviolet"
         },
         "name": "Tiki NOW",
         "type": "bar",
         "x": [
          "Điện Thoại - Máy Tính Bảng",
          "Voucher - Dịch Vụ - Thẻ Cào",
          "Điện Tử - Điện Lạnh",
          "Máy Ảnh - Quay Phim",
          "Hàng quốc tế",
          "Laptop - Thiết bị IT",
          "Điện Gia Dụng",
          "Xe Máy, Ô tô, Xe Đạp",
          "Thể Thao - Dã Ngoại",
          "Phụ Kiện - Thiết Bị Số",
          "Thời trang - Phụ kiện",
          "Hàng Tiêu Dùng - Thực Phẩm",
          "Đồ chơi, Mẹ & Bé",
          "Nhà Cửa Đời Sống",
          "Làm Đẹp - Sức Khỏe",
          "Sách, VPP & Quà Tặng"
         ],
         "y": [
          269,
          13,
          329,
          773,
          2,
          1070,
          1552,
          1000,
          1466,
          2318,
          2850,
          5325,
          4378,
          3470,
          5557,
          8720
         ]
        }
       ],
       "layout": {
        "barmode": "group",
        "template": {
         "data": {
          "bar": [
           {
            "error_x": {
             "color": "#2a3f5f"
            },
            "error_y": {
             "color": "#2a3f5f"
            },
            "marker": {
             "line": {
              "color": "#E5ECF6",
              "width": 0.5
             }
            },
            "type": "bar"
           }
          ],
          "barpolar": [
           {
            "marker": {
             "line": {
              "color": "#E5ECF6",
              "width": 0.5
             }
            },
            "type": "barpolar"
           }
          ],
          "carpet": [
           {
            "aaxis": {
             "endlinecolor": "#2a3f5f",
             "gridcolor": "white",
             "linecolor": "white",
             "minorgridcolor": "white",
             "startlinecolor": "#2a3f5f"
            },
            "baxis": {
             "endlinecolor": "#2a3f5f",
             "gridcolor": "white",
             "linecolor": "white",
             "minorgridcolor": "white",
             "startlinecolor": "#2a3f5f"
            },
            "type": "carpet"
           }
          ],
          "choropleth": [
           {
            "colorbar": {
             "outlinewidth": 0,
             "ticks": ""
            },
            "type": "choropleth"
           }
          ],
          "contour": [
           {
            "colorbar": {
             "outlinewidth": 0,
             "ticks": ""
            },
            "colorscale": [
             [
              0,
              "#0d0887"
             ],
             [
              0.1111111111111111,
              "#46039f"
             ],
             [
              0.2222222222222222,
              "#7201a8"
             ],
             [
              0.3333333333333333,
              "#9c179e"
             ],
             [
              0.4444444444444444,
              "#bd3786"
             ],
             [
              0.5555555555555556,
              "#d8576b"
             ],
             [
              0.6666666666666666,
              "#ed7953"
             ],
             [
              0.7777777777777778,
              "#fb9f3a"
             ],
             [
              0.8888888888888888,
              "#fdca26"
             ],
             [
              1,
              "#f0f921"
             ]
            ],
            "type": "contour"
           }
          ],
          "contourcarpet": [
           {
            "colorbar": {
             "outlinewidth": 0,
             "ticks": ""
            },
            "type": "contourcarpet"
           }
          ],
          "heatmap": [
           {
            "colorbar": {
             "outlinewidth": 0,
             "ticks": ""
            },
            "colorscale": [
             [
              0,
              "#0d0887"
             ],
             [
              0.1111111111111111,
              "#46039f"
             ],
             [
              0.2222222222222222,
              "#7201a8"
             ],
             [
              0.3333333333333333,
              "#9c179e"
             ],
             [
              0.4444444444444444,
              "#bd3786"
             ],
             [
              0.5555555555555556,
              "#d8576b"
             ],
             [
              0.6666666666666666,
              "#ed7953"
             ],
             [
              0.7777777777777778,
              "#fb9f3a"
             ],
             [
              0.8888888888888888,
              "#fdca26"
             ],
             [
              1,
              "#f0f921"
             ]
            ],
            "type": "heatmap"
           }
          ],
          "heatmapgl": [
           {
            "colorbar": {
             "outlinewidth": 0,
             "ticks": ""
            },
            "colorscale": [
             [
              0,
              "#0d0887"
             ],
             [
              0.1111111111111111,
              "#46039f"
             ],
             [
              0.2222222222222222,
              "#7201a8"
             ],
             [
              0.3333333333333333,
              "#9c179e"
             ],
             [
              0.4444444444444444,
              "#bd3786"
             ],
             [
              0.5555555555555556,
              "#d8576b"
             ],
             [
              0.6666666666666666,
              "#ed7953"
             ],
             [
              0.7777777777777778,
              "#fb9f3a"
             ],
             [
              0.8888888888888888,
              "#fdca26"
             ],
             [
              1,
              "#f0f921"
             ]
            ],
            "type": "heatmapgl"
           }
          ],
          "histogram": [
           {
            "marker": {
             "colorbar": {
              "outlinewidth": 0,
              "ticks": ""
             }
            },
            "type": "histogram"
           }
          ],
          "histogram2d": [
           {
            "colorbar": {
             "outlinewidth": 0,
             "ticks": ""
            },
            "colorscale": [
             [
              0,
              "#0d0887"
             ],
             [
              0.1111111111111111,
              "#46039f"
             ],
             [
              0.2222222222222222,
              "#7201a8"
             ],
             [
              0.3333333333333333,
              "#9c179e"
             ],
             [
              0.4444444444444444,
              "#bd3786"
             ],
             [
              0.5555555555555556,
              "#d8576b"
             ],
             [
              0.6666666666666666,
              "#ed7953"
             ],
             [
              0.7777777777777778,
              "#fb9f3a"
             ],
             [
              0.8888888888888888,
              "#fdca26"
             ],
             [
              1,
              "#f0f921"
             ]
            ],
            "type": "histogram2d"
           }
          ],
          "histogram2dcontour": [
           {
            "colorbar": {
             "outlinewidth": 0,
             "ticks": ""
            },
            "colorscale": [
             [
              0,
              "#0d0887"
             ],
             [
              0.1111111111111111,
              "#46039f"
             ],
             [
              0.2222222222222222,
              "#7201a8"
             ],
             [
              0.3333333333333333,
              "#9c179e"
             ],
             [
              0.4444444444444444,
              "#bd3786"
             ],
             [
              0.5555555555555556,
              "#d8576b"
             ],
             [
              0.6666666666666666,
              "#ed7953"
             ],
             [
              0.7777777777777778,
              "#fb9f3a"
             ],
             [
              0.8888888888888888,
              "#fdca26"
             ],
             [
              1,
              "#f0f921"
             ]
            ],
            "type": "histogram2dcontour"
           }
          ],
          "mesh3d": [
           {
            "colorbar": {
             "outlinewidth": 0,
             "ticks": ""
            },
            "type": "mesh3d"
           }
          ],
          "parcoords": [
           {
            "line": {
             "colorbar": {
              "outlinewidth": 0,
              "ticks": ""
             }
            },
            "type": "parcoords"
           }
          ],
          "scatter": [
           {
            "marker": {
             "colorbar": {
              "outlinewidth": 0,
              "ticks": ""
             }
            },
            "type": "scatter"
           }
          ],
          "scatter3d": [
           {
            "line": {
             "colorbar": {
              "outlinewidth": 0,
              "ticks": ""
             }
            },
            "marker": {
             "colorbar": {
              "outlinewidth": 0,
              "ticks": ""
             }
            },
            "type": "scatter3d"
           }
          ],
          "scattercarpet": [
           {
            "marker": {
             "colorbar": {
              "outlinewidth": 0,
              "ticks": ""
             }
            },
            "type": "scattercarpet"
           }
          ],
          "scattergeo": [
           {
            "marker": {
             "colorbar": {
              "outlinewidth": 0,
              "ticks": ""
             }
            },
            "type": "scattergeo"
           }
          ],
          "scattergl": [
           {
            "marker": {
             "colorbar": {
              "outlinewidth": 0,
              "ticks": ""
             }
            },
            "type": "scattergl"
           }
          ],
          "scattermapbox": [
           {
            "marker": {
             "colorbar": {
              "outlinewidth": 0,
              "ticks": ""
             }
            },
            "type": "scattermapbox"
           }
          ],
          "scatterpolar": [
           {
            "marker": {
             "colorbar": {
              "outlinewidth": 0,
              "ticks": ""
             }
            },
            "type": "scatterpolar"
           }
          ],
          "scatterpolargl": [
           {
            "marker": {
             "colorbar": {
              "outlinewidth": 0,
              "ticks": ""
             }
            },
            "type": "scatterpolargl"
           }
          ],
          "scatterternary": [
           {
            "marker": {
             "colorbar": {
              "outlinewidth": 0,
              "ticks": ""
             }
            },
            "type": "scatterternary"
           }
          ],
          "surface": [
           {
            "colorbar": {
             "outlinewidth": 0,
             "ticks": ""
            },
            "colorscale": [
             [
              0,
              "#0d0887"
             ],
             [
              0.1111111111111111,
              "#46039f"
             ],
             [
              0.2222222222222222,
              "#7201a8"
             ],
             [
              0.3333333333333333,
              "#9c179e"
             ],
             [
              0.4444444444444444,
              "#bd3786"
             ],
             [
              0.5555555555555556,
              "#d8576b"
             ],
             [
              0.6666666666666666,
              "#ed7953"
             ],
             [
              0.7777777777777778,
              "#fb9f3a"
             ],
             [
              0.8888888888888888,
              "#fdca26"
             ],
             [
              1,
              "#f0f921"
             ]
            ],
            "type": "surface"
           }
          ],
          "table": [
           {
            "cells": {
             "fill": {
              "color": "#EBF0F8"
             },
             "line": {
              "color": "white"
             }
            },
            "header": {
             "fill": {
              "color": "#C8D4E3"
             },
             "line": {
              "color": "white"
             }
            },
            "type": "table"
           }
          ]
         },
         "layout": {
          "annotationdefaults": {
           "arrowcolor": "#2a3f5f",
           "arrowhead": 0,
           "arrowwidth": 1
          },
          "colorscale": {
           "diverging": [
            [
             0,
             "#8e0152"
            ],
            [
             0.1,
             "#c51b7d"
            ],
            [
             0.2,
             "#de77ae"
            ],
            [
             0.3,
             "#f1b6da"
            ],
            [
             0.4,
             "#fde0ef"
            ],
            [
             0.5,
             "#f7f7f7"
            ],
            [
             0.6,
             "#e6f5d0"
            ],
            [
             0.7,
             "#b8e186"
            ],
            [
             0.8,
             "#7fbc41"
            ],
            [
             0.9,
             "#4d9221"
            ],
            [
             1,
             "#276419"
            ]
           ],
           "sequential": [
            [
             0,
             "#0d0887"
            ],
            [
             0.1111111111111111,
             "#46039f"
            ],
            [
             0.2222222222222222,
             "#7201a8"
            ],
            [
             0.3333333333333333,
             "#9c179e"
            ],
            [
             0.4444444444444444,
             "#bd3786"
            ],
            [
             0.5555555555555556,
             "#d8576b"
            ],
            [
             0.6666666666666666,
             "#ed7953"
            ],
            [
             0.7777777777777778,
             "#fb9f3a"
            ],
            [
             0.8888888888888888,
             "#fdca26"
            ],
            [
             1,
             "#f0f921"
            ]
           ],
           "sequentialminus": [
            [
             0,
             "#0d0887"
            ],
            [
             0.1111111111111111,
             "#46039f"
            ],
            [
             0.2222222222222222,
             "#7201a8"
            ],
            [
             0.3333333333333333,
             "#9c179e"
            ],
            [
             0.4444444444444444,
             "#bd3786"
            ],
            [
             0.5555555555555556,
             "#d8576b"
            ],
            [
             0.6666666666666666,
             "#ed7953"
            ],
            [
             0.7777777777777778,
             "#fb9f3a"
            ],
            [
             0.8888888888888888,
             "#fdca26"
            ],
            [
             1,
             "#f0f921"
            ]
           ]
          },
          "colorway": [
           "#636efa",
           "#EF553B",
           "#00cc96",
           "#ab63fa",
           "#FFA15A",
           "#19d3f3",
           "#FF6692",
           "#B6E880",
           "#FF97FF",
           "#FECB52"
          ],
          "font": {
           "color": "#2a3f5f"
          },
          "geo": {
           "bgcolor": "white",
           "lakecolor": "white",
           "landcolor": "#E5ECF6",
           "showlakes": true,
           "showland": true,
           "subunitcolor": "white"
          },
          "hoverlabel": {
           "align": "left"
          },
          "hovermode": "closest",
          "mapbox": {
           "style": "light"
          },
          "paper_bgcolor": "white",
          "plot_bgcolor": "#E5ECF6",
          "polar": {
           "angularaxis": {
            "gridcolor": "white",
            "linecolor": "white",
            "ticks": ""
           },
           "bgcolor": "#E5ECF6",
           "radialaxis": {
            "gridcolor": "white",
            "linecolor": "white",
            "ticks": ""
           }
          },
          "scene": {
           "xaxis": {
            "backgroundcolor": "#E5ECF6",
            "gridcolor": "white",
            "gridwidth": 2,
            "linecolor": "white",
            "showbackground": true,
            "ticks": "",
            "zerolinecolor": "white"
           },
           "yaxis": {
            "backgroundcolor": "#E5ECF6",
            "gridcolor": "white",
            "gridwidth": 2,
            "linecolor": "white",
            "showbackground": true,
            "ticks": "",
            "zerolinecolor": "white"
           },
           "zaxis": {
            "backgroundcolor": "#E5ECF6",
            "gridcolor": "white",
            "gridwidth": 2,
            "linecolor": "white",
            "showbackground": true,
            "ticks": "",
            "zerolinecolor": "white"
           }
          },
          "shapedefaults": {
           "line": {
            "color": "#2a3f5f"
           }
          },
          "ternary": {
           "aaxis": {
            "gridcolor": "white",
            "linecolor": "white",
            "ticks": ""
           },
           "baxis": {
            "gridcolor": "white",
            "linecolor": "white",
            "ticks": ""
           },
           "bgcolor": "#E5ECF6",
           "caxis": {
            "gridcolor": "white",
            "linecolor": "white",
            "ticks": ""
           }
          },
          "title": {
           "x": 0.05
          },
          "xaxis": {
           "automargin": true,
           "gridcolor": "white",
           "linecolor": "white",
           "ticks": "",
           "zerolinecolor": "white",
           "zerolinewidth": 2
          },
          "yaxis": {
           "automargin": true,
           "gridcolor": "white",
           "linecolor": "white",
           "ticks": "",
           "zerolinecolor": "white",
           "zerolinewidth": 2
          }
         }
        }
       }
      },
      "text/html": [
       "<div>\n",
       "        \n",
       "        \n",
       "            <div id=\"5e002f3a-8c45-4a1e-84cf-55533953e9f1\" class=\"plotly-graph-div\" style=\"height:525px; width:100%;\"></div>\n",
       "            <script type=\"text/javascript\">\n",
       "                require([\"plotly\"], function(Plotly) {\n",
       "                    window.PLOTLYENV=window.PLOTLYENV || {};\n",
       "                    \n",
       "                if (document.getElementById(\"5e002f3a-8c45-4a1e-84cf-55533953e9f1\")) {\n",
       "                    Plotly.newPlot(\n",
       "                        '5e002f3a-8c45-4a1e-84cf-55533953e9f1',\n",
       "                        [{\"marker\": {\"color\": \"indigo\"}, \"name\": \"Item\", \"type\": \"bar\", \"x\": [\"\\u0110i\\u1ec7n Tho\\u1ea1i - M\\u00e1y T\\u00ednh B\\u1ea3ng\", \"Voucher - D\\u1ecbch V\\u1ee5 - Th\\u1ebb C\\u00e0o\", \"\\u0110i\\u1ec7n T\\u1eed - \\u0110i\\u1ec7n L\\u1ea1nh\", \"M\\u00e1y \\u1ea2nh - Quay Phim\", \"H\\u00e0ng qu\\u1ed1c t\\u1ebf\", \"Laptop - Thi\\u1ebft b\\u1ecb IT\", \"\\u0110i\\u1ec7n Gia D\\u1ee5ng\", \"Xe M\\u00e1y, \\u00d4 t\\u00f4, Xe \\u0110\\u1ea1p\", \"Th\\u1ec3 Thao - D\\u00e3 Ngo\\u1ea1i\", \"Ph\\u1ee5 Ki\\u1ec7n - Thi\\u1ebft B\\u1ecb S\\u1ed1\", \"Th\\u1eddi trang - Ph\\u1ee5 ki\\u1ec7n\", \"H\\u00e0ng Ti\\u00eau D\\u00f9ng - Th\\u1ef1c Ph\\u1ea9m\", \"\\u0110\\u1ed3 ch\\u01a1i, M\\u1eb9 & B\\u00e9\", \"Nh\\u00e0 C\\u1eeda \\u0110\\u1eddi S\\u1ed1ng\", \"L\\u00e0m \\u0110\\u1eb9p - S\\u1ee9c Kh\\u1ecfe\", \"S\\u00e1ch, VPP & Qu\\u00e0 T\\u1eb7ng\"], \"y\": [903, 3606, 4862, 7326, 7658, 7697, 7860, 7871, 7909, 8893, 8893, 9067, 9155, 9420, 9527, 9855]}, {\"marker\": {\"color\": \"blueviolet\"}, \"name\": \"Tiki NOW\", \"type\": \"bar\", \"x\": [\"\\u0110i\\u1ec7n Tho\\u1ea1i - M\\u00e1y T\\u00ednh B\\u1ea3ng\", \"Voucher - D\\u1ecbch V\\u1ee5 - Th\\u1ebb C\\u00e0o\", \"\\u0110i\\u1ec7n T\\u1eed - \\u0110i\\u1ec7n L\\u1ea1nh\", \"M\\u00e1y \\u1ea2nh - Quay Phim\", \"H\\u00e0ng qu\\u1ed1c t\\u1ebf\", \"Laptop - Thi\\u1ebft b\\u1ecb IT\", \"\\u0110i\\u1ec7n Gia D\\u1ee5ng\", \"Xe M\\u00e1y, \\u00d4 t\\u00f4, Xe \\u0110\\u1ea1p\", \"Th\\u1ec3 Thao - D\\u00e3 Ngo\\u1ea1i\", \"Ph\\u1ee5 Ki\\u1ec7n - Thi\\u1ebft B\\u1ecb S\\u1ed1\", \"Th\\u1eddi trang - Ph\\u1ee5 ki\\u1ec7n\", \"H\\u00e0ng Ti\\u00eau D\\u00f9ng - Th\\u1ef1c Ph\\u1ea9m\", \"\\u0110\\u1ed3 ch\\u01a1i, M\\u1eb9 & B\\u00e9\", \"Nh\\u00e0 C\\u1eeda \\u0110\\u1eddi S\\u1ed1ng\", \"L\\u00e0m \\u0110\\u1eb9p - S\\u1ee9c Kh\\u1ecfe\", \"S\\u00e1ch, VPP & Qu\\u00e0 T\\u1eb7ng\"], \"y\": [269, 13, 329, 773, 2, 1070, 1552, 1000, 1466, 2318, 2850, 5325, 4378, 3470, 5557, 8720]}],\n",
       "                        {\"barmode\": \"group\", \"template\": {\"data\": {\"bar\": [{\"error_x\": {\"color\": \"#2a3f5f\"}, \"error_y\": {\"color\": \"#2a3f5f\"}, \"marker\": {\"line\": {\"color\": \"#E5ECF6\", \"width\": 0.5}}, \"type\": \"bar\"}], \"barpolar\": [{\"marker\": {\"line\": {\"color\": \"#E5ECF6\", \"width\": 0.5}}, \"type\": \"barpolar\"}], \"carpet\": [{\"aaxis\": {\"endlinecolor\": \"#2a3f5f\", \"gridcolor\": \"white\", \"linecolor\": \"white\", \"minorgridcolor\": \"white\", \"startlinecolor\": \"#2a3f5f\"}, \"baxis\": {\"endlinecolor\": \"#2a3f5f\", \"gridcolor\": \"white\", \"linecolor\": \"white\", \"minorgridcolor\": \"white\", \"startlinecolor\": \"#2a3f5f\"}, \"type\": \"carpet\"}], \"choropleth\": [{\"colorbar\": {\"outlinewidth\": 0, \"ticks\": \"\"}, \"type\": \"choropleth\"}], \"contour\": [{\"colorbar\": {\"outlinewidth\": 0, \"ticks\": \"\"}, \"colorscale\": [[0.0, \"#0d0887\"], [0.1111111111111111, \"#46039f\"], [0.2222222222222222, \"#7201a8\"], [0.3333333333333333, \"#9c179e\"], [0.4444444444444444, \"#bd3786\"], [0.5555555555555556, \"#d8576b\"], [0.6666666666666666, \"#ed7953\"], [0.7777777777777778, \"#fb9f3a\"], [0.8888888888888888, \"#fdca26\"], [1.0, \"#f0f921\"]], \"type\": \"contour\"}], \"contourcarpet\": [{\"colorbar\": {\"outlinewidth\": 0, \"ticks\": \"\"}, \"type\": \"contourcarpet\"}], \"heatmap\": [{\"colorbar\": {\"outlinewidth\": 0, \"ticks\": \"\"}, \"colorscale\": [[0.0, \"#0d0887\"], [0.1111111111111111, \"#46039f\"], [0.2222222222222222, \"#7201a8\"], [0.3333333333333333, \"#9c179e\"], [0.4444444444444444, \"#bd3786\"], [0.5555555555555556, \"#d8576b\"], [0.6666666666666666, \"#ed7953\"], [0.7777777777777778, \"#fb9f3a\"], [0.8888888888888888, \"#fdca26\"], [1.0, \"#f0f921\"]], \"type\": \"heatmap\"}], \"heatmapgl\": [{\"colorbar\": {\"outlinewidth\": 0, \"ticks\": \"\"}, \"colorscale\": [[0.0, \"#0d0887\"], [0.1111111111111111, \"#46039f\"], [0.2222222222222222, \"#7201a8\"], [0.3333333333333333, \"#9c179e\"], [0.4444444444444444, \"#bd3786\"], [0.5555555555555556, \"#d8576b\"], [0.6666666666666666, \"#ed7953\"], [0.7777777777777778, \"#fb9f3a\"], [0.8888888888888888, \"#fdca26\"], [1.0, \"#f0f921\"]], \"type\": \"heatmapgl\"}], \"histogram\": [{\"marker\": {\"colorbar\": {\"outlinewidth\": 0, \"ticks\": \"\"}}, \"type\": \"histogram\"}], \"histogram2d\": [{\"colorbar\": {\"outlinewidth\": 0, \"ticks\": \"\"}, \"colorscale\": [[0.0, \"#0d0887\"], [0.1111111111111111, \"#46039f\"], [0.2222222222222222, \"#7201a8\"], [0.3333333333333333, \"#9c179e\"], [0.4444444444444444, \"#bd3786\"], [0.5555555555555556, \"#d8576b\"], [0.6666666666666666, \"#ed7953\"], [0.7777777777777778, \"#fb9f3a\"], [0.8888888888888888, \"#fdca26\"], [1.0, \"#f0f921\"]], \"type\": \"histogram2d\"}], \"histogram2dcontour\": [{\"colorbar\": {\"outlinewidth\": 0, \"ticks\": \"\"}, \"colorscale\": [[0.0, \"#0d0887\"], [0.1111111111111111, \"#46039f\"], [0.2222222222222222, \"#7201a8\"], [0.3333333333333333, \"#9c179e\"], [0.4444444444444444, \"#bd3786\"], [0.5555555555555556, \"#d8576b\"], [0.6666666666666666, \"#ed7953\"], [0.7777777777777778, \"#fb9f3a\"], [0.8888888888888888, \"#fdca26\"], [1.0, \"#f0f921\"]], \"type\": \"histogram2dcontour\"}], \"mesh3d\": [{\"colorbar\": {\"outlinewidth\": 0, \"ticks\": \"\"}, \"type\": \"mesh3d\"}], \"parcoords\": [{\"line\": {\"colorbar\": {\"outlinewidth\": 0, \"ticks\": \"\"}}, \"type\": \"parcoords\"}], \"scatter\": [{\"marker\": {\"colorbar\": {\"outlinewidth\": 0, \"ticks\": \"\"}}, \"type\": \"scatter\"}], \"scatter3d\": [{\"line\": {\"colorbar\": {\"outlinewidth\": 0, \"ticks\": \"\"}}, \"marker\": {\"colorbar\": {\"outlinewidth\": 0, \"ticks\": \"\"}}, \"type\": \"scatter3d\"}], \"scattercarpet\": [{\"marker\": {\"colorbar\": {\"outlinewidth\": 0, \"ticks\": \"\"}}, \"type\": \"scattercarpet\"}], \"scattergeo\": [{\"marker\": {\"colorbar\": {\"outlinewidth\": 0, \"ticks\": \"\"}}, \"type\": \"scattergeo\"}], \"scattergl\": [{\"marker\": {\"colorbar\": {\"outlinewidth\": 0, \"ticks\": \"\"}}, \"type\": \"scattergl\"}], \"scattermapbox\": [{\"marker\": {\"colorbar\": {\"outlinewidth\": 0, \"ticks\": \"\"}}, \"type\": \"scattermapbox\"}], \"scatterpolar\": [{\"marker\": {\"colorbar\": {\"outlinewidth\": 0, \"ticks\": \"\"}}, \"type\": \"scatterpolar\"}], \"scatterpolargl\": [{\"marker\": {\"colorbar\": {\"outlinewidth\": 0, \"ticks\": \"\"}}, \"type\": \"scatterpolargl\"}], \"scatterternary\": [{\"marker\": {\"colorbar\": {\"outlinewidth\": 0, \"ticks\": \"\"}}, \"type\": \"scatterternary\"}], \"surface\": [{\"colorbar\": {\"outlinewidth\": 0, \"ticks\": \"\"}, \"colorscale\": [[0.0, \"#0d0887\"], [0.1111111111111111, \"#46039f\"], [0.2222222222222222, \"#7201a8\"], [0.3333333333333333, \"#9c179e\"], [0.4444444444444444, \"#bd3786\"], [0.5555555555555556, \"#d8576b\"], [0.6666666666666666, \"#ed7953\"], [0.7777777777777778, \"#fb9f3a\"], [0.8888888888888888, \"#fdca26\"], [1.0, \"#f0f921\"]], \"type\": \"surface\"}], \"table\": [{\"cells\": {\"fill\": {\"color\": \"#EBF0F8\"}, \"line\": {\"color\": \"white\"}}, \"header\": {\"fill\": {\"color\": \"#C8D4E3\"}, \"line\": {\"color\": \"white\"}}, \"type\": \"table\"}]}, \"layout\": {\"annotationdefaults\": {\"arrowcolor\": \"#2a3f5f\", \"arrowhead\": 0, \"arrowwidth\": 1}, \"colorscale\": {\"diverging\": [[0, \"#8e0152\"], [0.1, \"#c51b7d\"], [0.2, \"#de77ae\"], [0.3, \"#f1b6da\"], [0.4, \"#fde0ef\"], [0.5, \"#f7f7f7\"], [0.6, \"#e6f5d0\"], [0.7, \"#b8e186\"], [0.8, \"#7fbc41\"], [0.9, \"#4d9221\"], [1, \"#276419\"]], \"sequential\": [[0.0, \"#0d0887\"], [0.1111111111111111, \"#46039f\"], [0.2222222222222222, \"#7201a8\"], [0.3333333333333333, \"#9c179e\"], [0.4444444444444444, \"#bd3786\"], [0.5555555555555556, \"#d8576b\"], [0.6666666666666666, \"#ed7953\"], [0.7777777777777778, \"#fb9f3a\"], [0.8888888888888888, \"#fdca26\"], [1.0, \"#f0f921\"]], \"sequentialminus\": [[0.0, \"#0d0887\"], [0.1111111111111111, \"#46039f\"], [0.2222222222222222, \"#7201a8\"], [0.3333333333333333, \"#9c179e\"], [0.4444444444444444, \"#bd3786\"], [0.5555555555555556, \"#d8576b\"], [0.6666666666666666, \"#ed7953\"], [0.7777777777777778, \"#fb9f3a\"], [0.8888888888888888, \"#fdca26\"], [1.0, \"#f0f921\"]]}, \"colorway\": [\"#636efa\", \"#EF553B\", \"#00cc96\", \"#ab63fa\", \"#FFA15A\", \"#19d3f3\", \"#FF6692\", \"#B6E880\", \"#FF97FF\", \"#FECB52\"], \"font\": {\"color\": \"#2a3f5f\"}, \"geo\": {\"bgcolor\": \"white\", \"lakecolor\": \"white\", \"landcolor\": \"#E5ECF6\", \"showlakes\": true, \"showland\": true, \"subunitcolor\": \"white\"}, \"hoverlabel\": {\"align\": \"left\"}, \"hovermode\": \"closest\", \"mapbox\": {\"style\": \"light\"}, \"paper_bgcolor\": \"white\", \"plot_bgcolor\": \"#E5ECF6\", \"polar\": {\"angularaxis\": {\"gridcolor\": \"white\", \"linecolor\": \"white\", \"ticks\": \"\"}, \"bgcolor\": \"#E5ECF6\", \"radialaxis\": {\"gridcolor\": \"white\", \"linecolor\": \"white\", \"ticks\": \"\"}}, \"scene\": {\"xaxis\": {\"backgroundcolor\": \"#E5ECF6\", \"gridcolor\": \"white\", \"gridwidth\": 2, \"linecolor\": \"white\", \"showbackground\": true, \"ticks\": \"\", \"zerolinecolor\": \"white\"}, \"yaxis\": {\"backgroundcolor\": \"#E5ECF6\", \"gridcolor\": \"white\", \"gridwidth\": 2, \"linecolor\": \"white\", \"showbackground\": true, \"ticks\": \"\", \"zerolinecolor\": \"white\"}, \"zaxis\": {\"backgroundcolor\": \"#E5ECF6\", \"gridcolor\": \"white\", \"gridwidth\": 2, \"linecolor\": \"white\", \"showbackground\": true, \"ticks\": \"\", \"zerolinecolor\": \"white\"}}, \"shapedefaults\": {\"line\": {\"color\": \"#2a3f5f\"}}, \"ternary\": {\"aaxis\": {\"gridcolor\": \"white\", \"linecolor\": \"white\", \"ticks\": \"\"}, \"baxis\": {\"gridcolor\": \"white\", \"linecolor\": \"white\", \"ticks\": \"\"}, \"bgcolor\": \"#E5ECF6\", \"caxis\": {\"gridcolor\": \"white\", \"linecolor\": \"white\", \"ticks\": \"\"}}, \"title\": {\"x\": 0.05}, \"xaxis\": {\"automargin\": true, \"gridcolor\": \"white\", \"linecolor\": \"white\", \"ticks\": \"\", \"zerolinecolor\": \"white\", \"zerolinewidth\": 2}, \"yaxis\": {\"automargin\": true, \"gridcolor\": \"white\", \"linecolor\": \"white\", \"ticks\": \"\", \"zerolinecolor\": \"white\", \"zerolinewidth\": 2}}}},\n",
       "                        {\"responsive\": true}\n",
       "                    ).then(function(){\n",
       "                            \n",
       "var gd = document.getElementById('5e002f3a-8c45-4a1e-84cf-55533953e9f1');\n",
       "var x = new MutationObserver(function (mutations, observer) {{\n",
       "        var display = window.getComputedStyle(gd).display;\n",
       "        if (!display || display === 'none') {{\n",
       "            console.log([gd, 'removed!']);\n",
       "            Plotly.purge(gd);\n",
       "            observer.disconnect();\n",
       "        }}\n",
       "}});\n",
       "\n",
       "// Listen for the removal of the full notebook cells\n",
       "var notebookContainer = gd.closest('#notebook-container');\n",
       "if (notebookContainer) {{\n",
       "    x.observe(notebookContainer, {childList: true});\n",
       "}}\n",
       "\n",
       "// Listen for the clearing of the current output cell\n",
       "var outputEl = gd.closest('.output');\n",
       "if (outputEl) {{\n",
       "    x.observe(outputEl, {childList: true});\n",
       "}}\n",
       "\n",
       "                        })\n",
       "                };\n",
       "                });\n",
       "            </script>\n",
       "        </div>"
      ]
     },
     "metadata": {},
     "output_type": "display_data"
    },
    {
     "name": "stdout",
     "output_type": "stream",
     "text": [
      "Do you want to continue to analyze? : 1 - Yes || 0 - No, that is enough information: 1\n",
      "Choose your chart:\n",
      "1 - Total products in each category\n",
      "2 - Compare total products and TIKI NOW service applied for each category\n",
      "3 - Compare total products, rating and price for each category\n",
      "Input your choose: 3\n"
     ]
    },
    {
     "data": {
      "application/vnd.plotly.v1+json": {
       "config": {
        "plotlyServerURL": "https://plot.ly"
       },
       "data": [
        {
         "hoverlabel": {
          "namelength": 0
         },
         "hovertemplate": "<b>%{hovertext}</b><br><br>Category=Điện Gia Dụng<br>Price=%{x}<br>Star=%{y}<br>Item=%{marker.size}",
         "hovertext": [
          7860
         ],
         "legendgroup": "Category=Điện Gia Dụng",
         "marker": {
          "color": "#636efa",
          "size": [
           7860
          ],
          "sizemode": "area",
          "sizeref": 2.7375,
          "symbol": "circle"
         },
         "mode": "markers",
         "name": "Category=Điện Gia Dụng",
         "showlegend": true,
         "type": "scatter",
         "x": [
          3508954.87671756
         ],
         "xaxis": "x",
         "y": [
          1.2360114503816795
         ],
         "yaxis": "y"
        },
        {
         "hoverlabel": {
          "namelength": 0
         },
         "hovertemplate": "<b>%{hovertext}</b><br><br>Category=Điện Thoại - Máy Tính Bảng<br>Price=%{x}<br>Star=%{y}<br>Item=%{marker.size}",
         "hovertext": [
          903
         ],
         "legendgroup": "Category=Điện Thoại - Máy Tính Bảng",
         "marker": {
          "color": "#EF553B",
          "size": [
           903
          ],
          "sizemode": "area",
          "sizeref": 2.7375,
          "symbol": "circle"
         },
         "mode": "markers",
         "name": "Category=Điện Thoại - Máy Tính Bảng",
         "showlegend": true,
         "type": "scatter",
         "x": [
          5557634.40310078
         ],
         "xaxis": "x",
         "y": [
          1.9127353266888152
         ],
         "yaxis": "y"
        },
        {
         "hoverlabel": {
          "namelength": 0
         },
         "hovertemplate": "<b>%{hovertext}</b><br><br>Category=Điện Tử - Điện Lạnh<br>Price=%{x}<br>Star=%{y}<br>Item=%{marker.size}",
         "hovertext": [
          4862
         ],
         "legendgroup": "Category=Điện Tử - Điện Lạnh",
         "marker": {
          "color": "#00cc96",
          "size": [
           4862
          ],
          "sizemode": "area",
          "sizeref": 2.7375,
          "symbol": "circle"
         },
         "mode": "markers",
         "name": "Category=Điện Tử - Điện Lạnh",
         "showlegend": true,
         "type": "scatter",
         "x": [
          10205585.191485
         ],
         "xaxis": "x",
         "y": [
          0.7557178116001645
         ],
         "yaxis": "y"
        },
        {
         "hoverlabel": {
          "namelength": 0
         },
         "hovertemplate": "<b>%{hovertext}</b><br><br>Category=Đồ chơi, Mẹ & Bé<br>Price=%{x}<br>Star=%{y}<br>Item=%{marker.size}",
         "hovertext": [
          9155
         ],
         "legendgroup": "Category=Đồ chơi, Mẹ & Bé",
         "marker": {
          "color": "#ab63fa",
          "size": [
           9155
          ],
          "sizemode": "area",
          "sizeref": 2.7375,
          "symbol": "circle"
         },
         "mode": "markers",
         "name": "Category=Đồ chơi, Mẹ & Bé",
         "showlegend": true,
         "type": "scatter",
         "x": [
          308449.009830694
         ],
         "xaxis": "x",
         "y": [
          2.075554341889678
         ],
         "yaxis": "y"
        },
        {
         "hoverlabel": {
          "namelength": 0
         },
         "hovertemplate": "<b>%{hovertext}</b><br><br>Category=Hàng quốc tế<br>Price=%{x}<br>Star=%{y}<br>Item=%{marker.size}",
         "hovertext": [
          7658
         ],
         "legendgroup": "Category=Hàng quốc tế",
         "marker": {
          "color": "#FFA15A",
          "size": [
           7658
          ],
          "sizemode": "area",
          "sizeref": 2.7375,
          "symbol": "circle"
         },
         "mode": "markers",
         "name": "Category=Hàng quốc tế",
         "showlegend": true,
         "type": "scatter",
         "x": [
          525763.319796291
         ],
         "xaxis": "x",
         "y": [
          0.615637242099765
         ],
         "yaxis": "y"
        },
        {
         "hoverlabel": {
          "namelength": 0
         },
         "hovertemplate": "<b>%{hovertext}</b><br><br>Category=Hàng Tiêu Dùng - Thực Phẩm<br>Price=%{x}<br>Star=%{y}<br>Item=%{marker.size}",
         "hovertext": [
          9067
         ],
         "legendgroup": "Category=Hàng Tiêu Dùng - Thực Phẩm",
         "marker": {
          "color": "#19d3f3",
          "size": [
           9067
          ],
          "sizemode": "area",
          "sizeref": 2.7375,
          "symbol": "circle"
         },
         "mode": "markers",
         "name": "Category=Hàng Tiêu Dùng - Thực Phẩm",
         "showlegend": true,
         "type": "scatter",
         "x": [
          155663.587404875
         ],
         "xaxis": "x",
         "y": [
          1.992643652806882
         ],
         "yaxis": "y"
        },
        {
         "hoverlabel": {
          "namelength": 0
         },
         "hovertemplate": "<b>%{hovertext}</b><br><br>Category=Làm Đẹp - Sức Khỏe<br>Price=%{x}<br>Star=%{y}<br>Item=%{marker.size}",
         "hovertext": [
          9527
         ],
         "legendgroup": "Category=Làm Đẹp - Sức Khỏe",
         "marker": {
          "color": "#FF6692",
          "size": [
           9527
          ],
          "sizemode": "area",
          "sizeref": 2.7375,
          "symbol": "circle"
         },
         "mode": "markers",
         "name": "Category=Làm Đẹp - Sức Khỏe",
         "showlegend": true,
         "type": "scatter",
         "x": [
          269120.107169098
         ],
         "xaxis": "x",
         "y": [
          2.3451873622336517
         ],
         "yaxis": "y"
        },
        {
         "hoverlabel": {
          "namelength": 0
         },
         "hovertemplate": "<b>%{hovertext}</b><br><br>Category=Laptop - Thiết bị IT<br>Price=%{x}<br>Star=%{y}<br>Item=%{marker.size}",
         "hovertext": [
          7697
         ],
         "legendgroup": "Category=Laptop - Thiết bị IT",
         "marker": {
          "color": "#B6E880",
          "size": [
           7697
          ],
          "sizemode": "area",
          "sizeref": 2.7375,
          "symbol": "circle"
         },
         "mode": "markers",
         "name": "Category=Laptop - Thiết bị IT",
         "showlegend": true,
         "type": "scatter",
         "x": [
          4349178.97570482
         ],
         "xaxis": "x",
         "y": [
          1.014252306093283
         ],
         "yaxis": "y"
        },
        {
         "hoverlabel": {
          "namelength": 0
         },
         "hovertemplate": "<b>%{hovertext}</b><br><br>Category=Máy Ảnh - Quay Phim<br>Price=%{x}<br>Star=%{y}<br>Item=%{marker.size}",
         "hovertext": [
          7326
         ],
         "legendgroup": "Category=Máy Ảnh - Quay Phim",
         "marker": {
          "color": "#FF97FF",
          "size": [
           7326
          ],
          "sizemode": "area",
          "sizeref": 2.7375,
          "symbol": "circle"
         },
         "mode": "markers",
         "name": "Category=Máy Ảnh - Quay Phim",
         "showlegend": true,
         "type": "scatter",
         "x": [
          3386420.62271362
         ],
         "xaxis": "x",
         "y": [
          0.520904995904996
         ],
         "yaxis": "y"
        },
        {
         "hoverlabel": {
          "namelength": 0
         },
         "hovertemplate": "<b>%{hovertext}</b><br><br>Category=Nhà Cửa Đời Sống<br>Price=%{x}<br>Star=%{y}<br>Item=%{marker.size}",
         "hovertext": [
          9420
         ],
         "legendgroup": "Category=Nhà Cửa Đời Sống",
         "marker": {
          "color": "#FECB52",
          "size": [
           9420
          ],
          "sizemode": "area",
          "sizeref": 2.7375,
          "symbol": "circle"
         },
         "mode": "markers",
         "name": "Category=Nhà Cửa Đời Sống",
         "showlegend": true,
         "type": "scatter",
         "x": [
          305156.589171975
         ],
         "xaxis": "x",
         "y": [
          1.908667728237792
         ],
         "yaxis": "y"
        },
        {
         "hoverlabel": {
          "namelength": 0
         },
         "hovertemplate": "<b>%{hovertext}</b><br><br>Category=Phụ Kiện - Thiết Bị Số<br>Price=%{x}<br>Star=%{y}<br>Item=%{marker.size}",
         "hovertext": [
          8893
         ],
         "legendgroup": "Category=Phụ Kiện - Thiết Bị Số",
         "marker": {
          "color": "#636efa",
          "size": [
           8893
          ],
          "sizemode": "area",
          "sizeref": 2.7375,
          "symbol": "circle"
         },
         "mode": "markers",
         "name": "Category=Phụ Kiện - Thiết Bị Số",
         "showlegend": true,
         "type": "scatter",
         "x": [
          342432.923310469
         ],
         "xaxis": "x",
         "y": [
          1.508141234678961
         ],
         "yaxis": "y"
        },
        {
         "hoverlabel": {
          "namelength": 0
         },
         "hovertemplate": "<b>%{hovertext}</b><br><br>Category=Sách, VPP & Quà Tặng<br>Price=%{x}<br>Star=%{y}<br>Item=%{marker.size}",
         "hovertext": [
          9855
         ],
         "legendgroup": "Category=Sách, VPP & Quà Tặng",
         "marker": {
          "color": "#EF553B",
          "size": [
           9855
          ],
          "sizemode": "area",
          "sizeref": 2.7375,
          "symbol": "circle"
         },
         "mode": "markers",
         "name": "Category=Sách, VPP & Quà Tặng",
         "showlegend": true,
         "type": "scatter",
         "x": [
          81014.9127346525
         ],
         "xaxis": "x",
         "y": [
          3.277001522070015
         ],
         "yaxis": "y"
        },
        {
         "hoverlabel": {
          "namelength": 0
         },
         "hovertemplate": "<b>%{hovertext}</b><br><br>Category=Thể Thao - Dã Ngoại<br>Price=%{x}<br>Star=%{y}<br>Item=%{marker.size}",
         "hovertext": [
          7909
         ],
         "legendgroup": "Category=Thể Thao - Dã Ngoại",
         "marker": {
          "color": "#00cc96",
          "size": [
           7909
          ],
          "sizemode": "area",
          "sizeref": 2.7375,
          "symbol": "circle"
         },
         "mode": "markers",
         "name": "Category=Thể Thao - Dã Ngoại",
         "showlegend": true,
         "type": "scatter",
         "x": [
          714556.862688077
         ],
         "xaxis": "x",
         "y": [
          1.1749209761031736
         ],
         "yaxis": "y"
        },
        {
         "hoverlabel": {
          "namelength": 0
         },
         "hovertemplate": "<b>%{hovertext}</b><br><br>Category=Thời trang - Phụ kiện<br>Price=%{x}<br>Star=%{y}<br>Item=%{marker.size}",
         "hovertext": [
          8893
         ],
         "legendgroup": "Category=Thời trang - Phụ kiện",
         "marker": {
          "color": "#ab63fa",
          "size": [
           8893
          ],
          "sizemode": "area",
          "sizeref": 2.7375,
          "symbol": "circle"
         },
         "mode": "markers",
         "name": "Category=Thời trang - Phụ kiện",
         "showlegend": true,
         "type": "scatter",
         "x": [
          300108.483189025
         ],
         "xaxis": "x",
         "y": [
          4.087141572022939
         ],
         "yaxis": "y"
        },
        {
         "hoverlabel": {
          "namelength": 0
         },
         "hovertemplate": "<b>%{hovertext}</b><br><br>Category=Voucher - Dịch Vụ - Thẻ Cào<br>Price=%{x}<br>Star=%{y}<br>Item=%{marker.size}",
         "hovertext": [
          3606
         ],
         "legendgroup": "Category=Voucher - Dịch Vụ - Thẻ Cào",
         "marker": {
          "color": "#FFA15A",
          "size": [
           3606
          ],
          "sizemode": "area",
          "sizeref": 2.7375,
          "symbol": "circle"
         },
         "mode": "markers",
         "name": "Category=Voucher - Dịch Vụ - Thẻ Cào",
         "showlegend": true,
         "type": "scatter",
         "x": [
          1432353.31946755
         ],
         "xaxis": "x",
         "y": [
          0.25881863560732116
         ],
         "yaxis": "y"
        },
        {
         "hoverlabel": {
          "namelength": 0
         },
         "hovertemplate": "<b>%{hovertext}</b><br><br>Category=Xe Máy, Ô tô, Xe Đạp<br>Price=%{x}<br>Star=%{y}<br>Item=%{marker.size}",
         "hovertext": [
          7871
         ],
         "legendgroup": "Category=Xe Máy, Ô tô, Xe Đạp",
         "marker": {
          "color": "#19d3f3",
          "size": [
           7871
          ],
          "sizemode": "area",
          "sizeref": 2.7375,
          "symbol": "circle"
         },
         "mode": "markers",
         "name": "Category=Xe Máy, Ô tô, Xe Đạp",
         "showlegend": true,
         "type": "scatter",
         "x": [
          6608303.34442892
         ],
         "xaxis": "x",
         "y": [
          0.8149980942701055
         ],
         "yaxis": "y"
        }
       ],
       "layout": {
        "height": 600,
        "legend": {
         "itemsizing": "constant",
         "tracegroupgap": 0
        },
        "margin": {
         "t": 60
        },
        "template": {
         "data": {
          "bar": [
           {
            "error_x": {
             "color": "#2a3f5f"
            },
            "error_y": {
             "color": "#2a3f5f"
            },
            "marker": {
             "line": {
              "color": "#E5ECF6",
              "width": 0.5
             }
            },
            "type": "bar"
           }
          ],
          "barpolar": [
           {
            "marker": {
             "line": {
              "color": "#E5ECF6",
              "width": 0.5
             }
            },
            "type": "barpolar"
           }
          ],
          "carpet": [
           {
            "aaxis": {
             "endlinecolor": "#2a3f5f",
             "gridcolor": "white",
             "linecolor": "white",
             "minorgridcolor": "white",
             "startlinecolor": "#2a3f5f"
            },
            "baxis": {
             "endlinecolor": "#2a3f5f",
             "gridcolor": "white",
             "linecolor": "white",
             "minorgridcolor": "white",
             "startlinecolor": "#2a3f5f"
            },
            "type": "carpet"
           }
          ],
          "choropleth": [
           {
            "colorbar": {
             "outlinewidth": 0,
             "ticks": ""
            },
            "type": "choropleth"
           }
          ],
          "contour": [
           {
            "colorbar": {
             "outlinewidth": 0,
             "ticks": ""
            },
            "colorscale": [
             [
              0,
              "#0d0887"
             ],
             [
              0.1111111111111111,
              "#46039f"
             ],
             [
              0.2222222222222222,
              "#7201a8"
             ],
             [
              0.3333333333333333,
              "#9c179e"
             ],
             [
              0.4444444444444444,
              "#bd3786"
             ],
             [
              0.5555555555555556,
              "#d8576b"
             ],
             [
              0.6666666666666666,
              "#ed7953"
             ],
             [
              0.7777777777777778,
              "#fb9f3a"
             ],
             [
              0.8888888888888888,
              "#fdca26"
             ],
             [
              1,
              "#f0f921"
             ]
            ],
            "type": "contour"
           }
          ],
          "contourcarpet": [
           {
            "colorbar": {
             "outlinewidth": 0,
             "ticks": ""
            },
            "type": "contourcarpet"
           }
          ],
          "heatmap": [
           {
            "colorbar": {
             "outlinewidth": 0,
             "ticks": ""
            },
            "colorscale": [
             [
              0,
              "#0d0887"
             ],
             [
              0.1111111111111111,
              "#46039f"
             ],
             [
              0.2222222222222222,
              "#7201a8"
             ],
             [
              0.3333333333333333,
              "#9c179e"
             ],
             [
              0.4444444444444444,
              "#bd3786"
             ],
             [
              0.5555555555555556,
              "#d8576b"
             ],
             [
              0.6666666666666666,
              "#ed7953"
             ],
             [
              0.7777777777777778,
              "#fb9f3a"
             ],
             [
              0.8888888888888888,
              "#fdca26"
             ],
             [
              1,
              "#f0f921"
             ]
            ],
            "type": "heatmap"
           }
          ],
          "heatmapgl": [
           {
            "colorbar": {
             "outlinewidth": 0,
             "ticks": ""
            },
            "colorscale": [
             [
              0,
              "#0d0887"
             ],
             [
              0.1111111111111111,
              "#46039f"
             ],
             [
              0.2222222222222222,
              "#7201a8"
             ],
             [
              0.3333333333333333,
              "#9c179e"
             ],
             [
              0.4444444444444444,
              "#bd3786"
             ],
             [
              0.5555555555555556,
              "#d8576b"
             ],
             [
              0.6666666666666666,
              "#ed7953"
             ],
             [
              0.7777777777777778,
              "#fb9f3a"
             ],
             [
              0.8888888888888888,
              "#fdca26"
             ],
             [
              1,
              "#f0f921"
             ]
            ],
            "type": "heatmapgl"
           }
          ],
          "histogram": [
           {
            "marker": {
             "colorbar": {
              "outlinewidth": 0,
              "ticks": ""
             }
            },
            "type": "histogram"
           }
          ],
          "histogram2d": [
           {
            "colorbar": {
             "outlinewidth": 0,
             "ticks": ""
            },
            "colorscale": [
             [
              0,
              "#0d0887"
             ],
             [
              0.1111111111111111,
              "#46039f"
             ],
             [
              0.2222222222222222,
              "#7201a8"
             ],
             [
              0.3333333333333333,
              "#9c179e"
             ],
             [
              0.4444444444444444,
              "#bd3786"
             ],
             [
              0.5555555555555556,
              "#d8576b"
             ],
             [
              0.6666666666666666,
              "#ed7953"
             ],
             [
              0.7777777777777778,
              "#fb9f3a"
             ],
             [
              0.8888888888888888,
              "#fdca26"
             ],
             [
              1,
              "#f0f921"
             ]
            ],
            "type": "histogram2d"
           }
          ],
          "histogram2dcontour": [
           {
            "colorbar": {
             "outlinewidth": 0,
             "ticks": ""
            },
            "colorscale": [
             [
              0,
              "#0d0887"
             ],
             [
              0.1111111111111111,
              "#46039f"
             ],
             [
              0.2222222222222222,
              "#7201a8"
             ],
             [
              0.3333333333333333,
              "#9c179e"
             ],
             [
              0.4444444444444444,
              "#bd3786"
             ],
             [
              0.5555555555555556,
              "#d8576b"
             ],
             [
              0.6666666666666666,
              "#ed7953"
             ],
             [
              0.7777777777777778,
              "#fb9f3a"
             ],
             [
              0.8888888888888888,
              "#fdca26"
             ],
             [
              1,
              "#f0f921"
             ]
            ],
            "type": "histogram2dcontour"
           }
          ],
          "mesh3d": [
           {
            "colorbar": {
             "outlinewidth": 0,
             "ticks": ""
            },
            "type": "mesh3d"
           }
          ],
          "parcoords": [
           {
            "line": {
             "colorbar": {
              "outlinewidth": 0,
              "ticks": ""
             }
            },
            "type": "parcoords"
           }
          ],
          "scatter": [
           {
            "marker": {
             "colorbar": {
              "outlinewidth": 0,
              "ticks": ""
             }
            },
            "type": "scatter"
           }
          ],
          "scatter3d": [
           {
            "line": {
             "colorbar": {
              "outlinewidth": 0,
              "ticks": ""
             }
            },
            "marker": {
             "colorbar": {
              "outlinewidth": 0,
              "ticks": ""
             }
            },
            "type": "scatter3d"
           }
          ],
          "scattercarpet": [
           {
            "marker": {
             "colorbar": {
              "outlinewidth": 0,
              "ticks": ""
             }
            },
            "type": "scattercarpet"
           }
          ],
          "scattergeo": [
           {
            "marker": {
             "colorbar": {
              "outlinewidth": 0,
              "ticks": ""
             }
            },
            "type": "scattergeo"
           }
          ],
          "scattergl": [
           {
            "marker": {
             "colorbar": {
              "outlinewidth": 0,
              "ticks": ""
             }
            },
            "type": "scattergl"
           }
          ],
          "scattermapbox": [
           {
            "marker": {
             "colorbar": {
              "outlinewidth": 0,
              "ticks": ""
             }
            },
            "type": "scattermapbox"
           }
          ],
          "scatterpolar": [
           {
            "marker": {
             "colorbar": {
              "outlinewidth": 0,
              "ticks": ""
             }
            },
            "type": "scatterpolar"
           }
          ],
          "scatterpolargl": [
           {
            "marker": {
             "colorbar": {
              "outlinewidth": 0,
              "ticks": ""
             }
            },
            "type": "scatterpolargl"
           }
          ],
          "scatterternary": [
           {
            "marker": {
             "colorbar": {
              "outlinewidth": 0,
              "ticks": ""
             }
            },
            "type": "scatterternary"
           }
          ],
          "surface": [
           {
            "colorbar": {
             "outlinewidth": 0,
             "ticks": ""
            },
            "colorscale": [
             [
              0,
              "#0d0887"
             ],
             [
              0.1111111111111111,
              "#46039f"
             ],
             [
              0.2222222222222222,
              "#7201a8"
             ],
             [
              0.3333333333333333,
              "#9c179e"
             ],
             [
              0.4444444444444444,
              "#bd3786"
             ],
             [
              0.5555555555555556,
              "#d8576b"
             ],
             [
              0.6666666666666666,
              "#ed7953"
             ],
             [
              0.7777777777777778,
              "#fb9f3a"
             ],
             [
              0.8888888888888888,
              "#fdca26"
             ],
             [
              1,
              "#f0f921"
             ]
            ],
            "type": "surface"
           }
          ],
          "table": [
           {
            "cells": {
             "fill": {
              "color": "#EBF0F8"
             },
             "line": {
              "color": "white"
             }
            },
            "header": {
             "fill": {
              "color": "#C8D4E3"
             },
             "line": {
              "color": "white"
             }
            },
            "type": "table"
           }
          ]
         },
         "layout": {
          "annotationdefaults": {
           "arrowcolor": "#2a3f5f",
           "arrowhead": 0,
           "arrowwidth": 1
          },
          "colorscale": {
           "diverging": [
            [
             0,
             "#8e0152"
            ],
            [
             0.1,
             "#c51b7d"
            ],
            [
             0.2,
             "#de77ae"
            ],
            [
             0.3,
             "#f1b6da"
            ],
            [
             0.4,
             "#fde0ef"
            ],
            [
             0.5,
             "#f7f7f7"
            ],
            [
             0.6,
             "#e6f5d0"
            ],
            [
             0.7,
             "#b8e186"
            ],
            [
             0.8,
             "#7fbc41"
            ],
            [
             0.9,
             "#4d9221"
            ],
            [
             1,
             "#276419"
            ]
           ],
           "sequential": [
            [
             0,
             "#0d0887"
            ],
            [
             0.1111111111111111,
             "#46039f"
            ],
            [
             0.2222222222222222,
             "#7201a8"
            ],
            [
             0.3333333333333333,
             "#9c179e"
            ],
            [
             0.4444444444444444,
             "#bd3786"
            ],
            [
             0.5555555555555556,
             "#d8576b"
            ],
            [
             0.6666666666666666,
             "#ed7953"
            ],
            [
             0.7777777777777778,
             "#fb9f3a"
            ],
            [
             0.8888888888888888,
             "#fdca26"
            ],
            [
             1,
             "#f0f921"
            ]
           ],
           "sequentialminus": [
            [
             0,
             "#0d0887"
            ],
            [
             0.1111111111111111,
             "#46039f"
            ],
            [
             0.2222222222222222,
             "#7201a8"
            ],
            [
             0.3333333333333333,
             "#9c179e"
            ],
            [
             0.4444444444444444,
             "#bd3786"
            ],
            [
             0.5555555555555556,
             "#d8576b"
            ],
            [
             0.6666666666666666,
             "#ed7953"
            ],
            [
             0.7777777777777778,
             "#fb9f3a"
            ],
            [
             0.8888888888888888,
             "#fdca26"
            ],
            [
             1,
             "#f0f921"
            ]
           ]
          },
          "colorway": [
           "#636efa",
           "#EF553B",
           "#00cc96",
           "#ab63fa",
           "#FFA15A",
           "#19d3f3",
           "#FF6692",
           "#B6E880",
           "#FF97FF",
           "#FECB52"
          ],
          "font": {
           "color": "#2a3f5f"
          },
          "geo": {
           "bgcolor": "white",
           "lakecolor": "white",
           "landcolor": "#E5ECF6",
           "showlakes": true,
           "showland": true,
           "subunitcolor": "white"
          },
          "hoverlabel": {
           "align": "left"
          },
          "hovermode": "closest",
          "mapbox": {
           "style": "light"
          },
          "paper_bgcolor": "white",
          "plot_bgcolor": "#E5ECF6",
          "polar": {
           "angularaxis": {
            "gridcolor": "white",
            "linecolor": "white",
            "ticks": ""
           },
           "bgcolor": "#E5ECF6",
           "radialaxis": {
            "gridcolor": "white",
            "linecolor": "white",
            "ticks": ""
           }
          },
          "scene": {
           "xaxis": {
            "backgroundcolor": "#E5ECF6",
            "gridcolor": "white",
            "gridwidth": 2,
            "linecolor": "white",
            "showbackground": true,
            "ticks": "",
            "zerolinecolor": "white"
           },
           "yaxis": {
            "backgroundcolor": "#E5ECF6",
            "gridcolor": "white",
            "gridwidth": 2,
            "linecolor": "white",
            "showbackground": true,
            "ticks": "",
            "zerolinecolor": "white"
           },
           "zaxis": {
            "backgroundcolor": "#E5ECF6",
            "gridcolor": "white",
            "gridwidth": 2,
            "linecolor": "white",
            "showbackground": true,
            "ticks": "",
            "zerolinecolor": "white"
           }
          },
          "shapedefaults": {
           "line": {
            "color": "#2a3f5f"
           }
          },
          "ternary": {
           "aaxis": {
            "gridcolor": "white",
            "linecolor": "white",
            "ticks": ""
           },
           "baxis": {
            "gridcolor": "white",
            "linecolor": "white",
            "ticks": ""
           },
           "bgcolor": "#E5ECF6",
           "caxis": {
            "gridcolor": "white",
            "linecolor": "white",
            "ticks": ""
           }
          },
          "title": {
           "x": 0.05
          },
          "xaxis": {
           "automargin": true,
           "gridcolor": "white",
           "linecolor": "white",
           "ticks": "",
           "zerolinecolor": "white",
           "zerolinewidth": 2
          },
          "yaxis": {
           "automargin": true,
           "gridcolor": "white",
           "linecolor": "white",
           "ticks": "",
           "zerolinecolor": "white",
           "zerolinewidth": 2
          }
         }
        },
        "xaxis": {
         "anchor": "y",
         "domain": [
          0,
          0.98
         ],
         "title": {
          "text": "Price"
         },
         "type": "log"
        },
        "yaxis": {
         "anchor": "x",
         "domain": [
          0,
          1
         ],
         "title": {
          "text": "Star"
         }
        }
       }
      },
      "text/html": [
       "<div>\n",
       "        \n",
       "        \n",
       "            <div id=\"3e810d55-7f06-4d68-a838-c2cbd04c29ab\" class=\"plotly-graph-div\" style=\"height:600px; width:100%;\"></div>\n",
       "            <script type=\"text/javascript\">\n",
       "                require([\"plotly\"], function(Plotly) {\n",
       "                    window.PLOTLYENV=window.PLOTLYENV || {};\n",
       "                    \n",
       "                if (document.getElementById(\"3e810d55-7f06-4d68-a838-c2cbd04c29ab\")) {\n",
       "                    Plotly.newPlot(\n",
       "                        '3e810d55-7f06-4d68-a838-c2cbd04c29ab',\n",
       "                        [{\"hoverlabel\": {\"namelength\": 0}, \"hovertemplate\": \"<b>%{hovertext}</b><br><br>Category=\\u0110i\\u1ec7n Gia D\\u1ee5ng<br>Price=%{x}<br>Star=%{y}<br>Item=%{marker.size}\", \"hovertext\": [7860.0], \"legendgroup\": \"Category=\\u0110i\\u1ec7n Gia D\\u1ee5ng\", \"marker\": {\"color\": \"#636efa\", \"size\": [7860], \"sizemode\": \"area\", \"sizeref\": 2.7375, \"symbol\": \"circle\"}, \"mode\": \"markers\", \"name\": \"Category=\\u0110i\\u1ec7n Gia D\\u1ee5ng\", \"showlegend\": true, \"type\": \"scatter\", \"x\": [3508954.87671756], \"xaxis\": \"x\", \"y\": [1.2360114503816795], \"yaxis\": \"y\"}, {\"hoverlabel\": {\"namelength\": 0}, \"hovertemplate\": \"<b>%{hovertext}</b><br><br>Category=\\u0110i\\u1ec7n Tho\\u1ea1i - M\\u00e1y T\\u00ednh B\\u1ea3ng<br>Price=%{x}<br>Star=%{y}<br>Item=%{marker.size}\", \"hovertext\": [903.0], \"legendgroup\": \"Category=\\u0110i\\u1ec7n Tho\\u1ea1i - M\\u00e1y T\\u00ednh B\\u1ea3ng\", \"marker\": {\"color\": \"#EF553B\", \"size\": [903], \"sizemode\": \"area\", \"sizeref\": 2.7375, \"symbol\": \"circle\"}, \"mode\": \"markers\", \"name\": \"Category=\\u0110i\\u1ec7n Tho\\u1ea1i - M\\u00e1y T\\u00ednh B\\u1ea3ng\", \"showlegend\": true, \"type\": \"scatter\", \"x\": [5557634.40310078], \"xaxis\": \"x\", \"y\": [1.9127353266888152], \"yaxis\": \"y\"}, {\"hoverlabel\": {\"namelength\": 0}, \"hovertemplate\": \"<b>%{hovertext}</b><br><br>Category=\\u0110i\\u1ec7n T\\u1eed - \\u0110i\\u1ec7n L\\u1ea1nh<br>Price=%{x}<br>Star=%{y}<br>Item=%{marker.size}\", \"hovertext\": [4862.0], \"legendgroup\": \"Category=\\u0110i\\u1ec7n T\\u1eed - \\u0110i\\u1ec7n L\\u1ea1nh\", \"marker\": {\"color\": \"#00cc96\", \"size\": [4862], \"sizemode\": \"area\", \"sizeref\": 2.7375, \"symbol\": \"circle\"}, \"mode\": \"markers\", \"name\": \"Category=\\u0110i\\u1ec7n T\\u1eed - \\u0110i\\u1ec7n L\\u1ea1nh\", \"showlegend\": true, \"type\": \"scatter\", \"x\": [10205585.191485], \"xaxis\": \"x\", \"y\": [0.7557178116001645], \"yaxis\": \"y\"}, {\"hoverlabel\": {\"namelength\": 0}, \"hovertemplate\": \"<b>%{hovertext}</b><br><br>Category=\\u0110\\u1ed3 ch\\u01a1i, M\\u1eb9 & B\\u00e9<br>Price=%{x}<br>Star=%{y}<br>Item=%{marker.size}\", \"hovertext\": [9155.0], \"legendgroup\": \"Category=\\u0110\\u1ed3 ch\\u01a1i, M\\u1eb9 & B\\u00e9\", \"marker\": {\"color\": \"#ab63fa\", \"size\": [9155], \"sizemode\": \"area\", \"sizeref\": 2.7375, \"symbol\": \"circle\"}, \"mode\": \"markers\", \"name\": \"Category=\\u0110\\u1ed3 ch\\u01a1i, M\\u1eb9 & B\\u00e9\", \"showlegend\": true, \"type\": \"scatter\", \"x\": [308449.009830694], \"xaxis\": \"x\", \"y\": [2.075554341889678], \"yaxis\": \"y\"}, {\"hoverlabel\": {\"namelength\": 0}, \"hovertemplate\": \"<b>%{hovertext}</b><br><br>Category=H\\u00e0ng qu\\u1ed1c t\\u1ebf<br>Price=%{x}<br>Star=%{y}<br>Item=%{marker.size}\", \"hovertext\": [7658.0], \"legendgroup\": \"Category=H\\u00e0ng qu\\u1ed1c t\\u1ebf\", \"marker\": {\"color\": \"#FFA15A\", \"size\": [7658], \"sizemode\": \"area\", \"sizeref\": 2.7375, \"symbol\": \"circle\"}, \"mode\": \"markers\", \"name\": \"Category=H\\u00e0ng qu\\u1ed1c t\\u1ebf\", \"showlegend\": true, \"type\": \"scatter\", \"x\": [525763.319796291], \"xaxis\": \"x\", \"y\": [0.615637242099765], \"yaxis\": \"y\"}, {\"hoverlabel\": {\"namelength\": 0}, \"hovertemplate\": \"<b>%{hovertext}</b><br><br>Category=H\\u00e0ng Ti\\u00eau D\\u00f9ng - Th\\u1ef1c Ph\\u1ea9m<br>Price=%{x}<br>Star=%{y}<br>Item=%{marker.size}\", \"hovertext\": [9067.0], \"legendgroup\": \"Category=H\\u00e0ng Ti\\u00eau D\\u00f9ng - Th\\u1ef1c Ph\\u1ea9m\", \"marker\": {\"color\": \"#19d3f3\", \"size\": [9067], \"sizemode\": \"area\", \"sizeref\": 2.7375, \"symbol\": \"circle\"}, \"mode\": \"markers\", \"name\": \"Category=H\\u00e0ng Ti\\u00eau D\\u00f9ng - Th\\u1ef1c Ph\\u1ea9m\", \"showlegend\": true, \"type\": \"scatter\", \"x\": [155663.587404875], \"xaxis\": \"x\", \"y\": [1.992643652806882], \"yaxis\": \"y\"}, {\"hoverlabel\": {\"namelength\": 0}, \"hovertemplate\": \"<b>%{hovertext}</b><br><br>Category=L\\u00e0m \\u0110\\u1eb9p - S\\u1ee9c Kh\\u1ecfe<br>Price=%{x}<br>Star=%{y}<br>Item=%{marker.size}\", \"hovertext\": [9527.0], \"legendgroup\": \"Category=L\\u00e0m \\u0110\\u1eb9p - S\\u1ee9c Kh\\u1ecfe\", \"marker\": {\"color\": \"#FF6692\", \"size\": [9527], \"sizemode\": \"area\", \"sizeref\": 2.7375, \"symbol\": \"circle\"}, \"mode\": \"markers\", \"name\": \"Category=L\\u00e0m \\u0110\\u1eb9p - S\\u1ee9c Kh\\u1ecfe\", \"showlegend\": true, \"type\": \"scatter\", \"x\": [269120.107169098], \"xaxis\": \"x\", \"y\": [2.3451873622336517], \"yaxis\": \"y\"}, {\"hoverlabel\": {\"namelength\": 0}, \"hovertemplate\": \"<b>%{hovertext}</b><br><br>Category=Laptop - Thi\\u1ebft b\\u1ecb IT<br>Price=%{x}<br>Star=%{y}<br>Item=%{marker.size}\", \"hovertext\": [7697.0], \"legendgroup\": \"Category=Laptop - Thi\\u1ebft b\\u1ecb IT\", \"marker\": {\"color\": \"#B6E880\", \"size\": [7697], \"sizemode\": \"area\", \"sizeref\": 2.7375, \"symbol\": \"circle\"}, \"mode\": \"markers\", \"name\": \"Category=Laptop - Thi\\u1ebft b\\u1ecb IT\", \"showlegend\": true, \"type\": \"scatter\", \"x\": [4349178.97570482], \"xaxis\": \"x\", \"y\": [1.014252306093283], \"yaxis\": \"y\"}, {\"hoverlabel\": {\"namelength\": 0}, \"hovertemplate\": \"<b>%{hovertext}</b><br><br>Category=M\\u00e1y \\u1ea2nh - Quay Phim<br>Price=%{x}<br>Star=%{y}<br>Item=%{marker.size}\", \"hovertext\": [7326.0], \"legendgroup\": \"Category=M\\u00e1y \\u1ea2nh - Quay Phim\", \"marker\": {\"color\": \"#FF97FF\", \"size\": [7326], \"sizemode\": \"area\", \"sizeref\": 2.7375, \"symbol\": \"circle\"}, \"mode\": \"markers\", \"name\": \"Category=M\\u00e1y \\u1ea2nh - Quay Phim\", \"showlegend\": true, \"type\": \"scatter\", \"x\": [3386420.62271362], \"xaxis\": \"x\", \"y\": [0.520904995904996], \"yaxis\": \"y\"}, {\"hoverlabel\": {\"namelength\": 0}, \"hovertemplate\": \"<b>%{hovertext}</b><br><br>Category=Nh\\u00e0 C\\u1eeda \\u0110\\u1eddi S\\u1ed1ng<br>Price=%{x}<br>Star=%{y}<br>Item=%{marker.size}\", \"hovertext\": [9420.0], \"legendgroup\": \"Category=Nh\\u00e0 C\\u1eeda \\u0110\\u1eddi S\\u1ed1ng\", \"marker\": {\"color\": \"#FECB52\", \"size\": [9420], \"sizemode\": \"area\", \"sizeref\": 2.7375, \"symbol\": \"circle\"}, \"mode\": \"markers\", \"name\": \"Category=Nh\\u00e0 C\\u1eeda \\u0110\\u1eddi S\\u1ed1ng\", \"showlegend\": true, \"type\": \"scatter\", \"x\": [305156.589171975], \"xaxis\": \"x\", \"y\": [1.908667728237792], \"yaxis\": \"y\"}, {\"hoverlabel\": {\"namelength\": 0}, \"hovertemplate\": \"<b>%{hovertext}</b><br><br>Category=Ph\\u1ee5 Ki\\u1ec7n - Thi\\u1ebft B\\u1ecb S\\u1ed1<br>Price=%{x}<br>Star=%{y}<br>Item=%{marker.size}\", \"hovertext\": [8893.0], \"legendgroup\": \"Category=Ph\\u1ee5 Ki\\u1ec7n - Thi\\u1ebft B\\u1ecb S\\u1ed1\", \"marker\": {\"color\": \"#636efa\", \"size\": [8893], \"sizemode\": \"area\", \"sizeref\": 2.7375, \"symbol\": \"circle\"}, \"mode\": \"markers\", \"name\": \"Category=Ph\\u1ee5 Ki\\u1ec7n - Thi\\u1ebft B\\u1ecb S\\u1ed1\", \"showlegend\": true, \"type\": \"scatter\", \"x\": [342432.923310469], \"xaxis\": \"x\", \"y\": [1.508141234678961], \"yaxis\": \"y\"}, {\"hoverlabel\": {\"namelength\": 0}, \"hovertemplate\": \"<b>%{hovertext}</b><br><br>Category=S\\u00e1ch, VPP & Qu\\u00e0 T\\u1eb7ng<br>Price=%{x}<br>Star=%{y}<br>Item=%{marker.size}\", \"hovertext\": [9855.0], \"legendgroup\": \"Category=S\\u00e1ch, VPP & Qu\\u00e0 T\\u1eb7ng\", \"marker\": {\"color\": \"#EF553B\", \"size\": [9855], \"sizemode\": \"area\", \"sizeref\": 2.7375, \"symbol\": \"circle\"}, \"mode\": \"markers\", \"name\": \"Category=S\\u00e1ch, VPP & Qu\\u00e0 T\\u1eb7ng\", \"showlegend\": true, \"type\": \"scatter\", \"x\": [81014.9127346525], \"xaxis\": \"x\", \"y\": [3.277001522070015], \"yaxis\": \"y\"}, {\"hoverlabel\": {\"namelength\": 0}, \"hovertemplate\": \"<b>%{hovertext}</b><br><br>Category=Th\\u1ec3 Thao - D\\u00e3 Ngo\\u1ea1i<br>Price=%{x}<br>Star=%{y}<br>Item=%{marker.size}\", \"hovertext\": [7909.0], \"legendgroup\": \"Category=Th\\u1ec3 Thao - D\\u00e3 Ngo\\u1ea1i\", \"marker\": {\"color\": \"#00cc96\", \"size\": [7909], \"sizemode\": \"area\", \"sizeref\": 2.7375, \"symbol\": \"circle\"}, \"mode\": \"markers\", \"name\": \"Category=Th\\u1ec3 Thao - D\\u00e3 Ngo\\u1ea1i\", \"showlegend\": true, \"type\": \"scatter\", \"x\": [714556.862688077], \"xaxis\": \"x\", \"y\": [1.1749209761031736], \"yaxis\": \"y\"}, {\"hoverlabel\": {\"namelength\": 0}, \"hovertemplate\": \"<b>%{hovertext}</b><br><br>Category=Th\\u1eddi trang - Ph\\u1ee5 ki\\u1ec7n<br>Price=%{x}<br>Star=%{y}<br>Item=%{marker.size}\", \"hovertext\": [8893.0], \"legendgroup\": \"Category=Th\\u1eddi trang - Ph\\u1ee5 ki\\u1ec7n\", \"marker\": {\"color\": \"#ab63fa\", \"size\": [8893], \"sizemode\": \"area\", \"sizeref\": 2.7375, \"symbol\": \"circle\"}, \"mode\": \"markers\", \"name\": \"Category=Th\\u1eddi trang - Ph\\u1ee5 ki\\u1ec7n\", \"showlegend\": true, \"type\": \"scatter\", \"x\": [300108.483189025], \"xaxis\": \"x\", \"y\": [4.087141572022939], \"yaxis\": \"y\"}, {\"hoverlabel\": {\"namelength\": 0}, \"hovertemplate\": \"<b>%{hovertext}</b><br><br>Category=Voucher - D\\u1ecbch V\\u1ee5 - Th\\u1ebb C\\u00e0o<br>Price=%{x}<br>Star=%{y}<br>Item=%{marker.size}\", \"hovertext\": [3606.0], \"legendgroup\": \"Category=Voucher - D\\u1ecbch V\\u1ee5 - Th\\u1ebb C\\u00e0o\", \"marker\": {\"color\": \"#FFA15A\", \"size\": [3606], \"sizemode\": \"area\", \"sizeref\": 2.7375, \"symbol\": \"circle\"}, \"mode\": \"markers\", \"name\": \"Category=Voucher - D\\u1ecbch V\\u1ee5 - Th\\u1ebb C\\u00e0o\", \"showlegend\": true, \"type\": \"scatter\", \"x\": [1432353.31946755], \"xaxis\": \"x\", \"y\": [0.25881863560732116], \"yaxis\": \"y\"}, {\"hoverlabel\": {\"namelength\": 0}, \"hovertemplate\": \"<b>%{hovertext}</b><br><br>Category=Xe M\\u00e1y, \\u00d4 t\\u00f4, Xe \\u0110\\u1ea1p<br>Price=%{x}<br>Star=%{y}<br>Item=%{marker.size}\", \"hovertext\": [7871.0], \"legendgroup\": \"Category=Xe M\\u00e1y, \\u00d4 t\\u00f4, Xe \\u0110\\u1ea1p\", \"marker\": {\"color\": \"#19d3f3\", \"size\": [7871], \"sizemode\": \"area\", \"sizeref\": 2.7375, \"symbol\": \"circle\"}, \"mode\": \"markers\", \"name\": \"Category=Xe M\\u00e1y, \\u00d4 t\\u00f4, Xe \\u0110\\u1ea1p\", \"showlegend\": true, \"type\": \"scatter\", \"x\": [6608303.34442892], \"xaxis\": \"x\", \"y\": [0.8149980942701055], \"yaxis\": \"y\"}],\n",
       "                        {\"height\": 600, \"legend\": {\"itemsizing\": \"constant\", \"tracegroupgap\": 0}, \"margin\": {\"t\": 60}, \"template\": {\"data\": {\"bar\": [{\"error_x\": {\"color\": \"#2a3f5f\"}, \"error_y\": {\"color\": \"#2a3f5f\"}, \"marker\": {\"line\": {\"color\": \"#E5ECF6\", \"width\": 0.5}}, \"type\": \"bar\"}], \"barpolar\": [{\"marker\": {\"line\": {\"color\": \"#E5ECF6\", \"width\": 0.5}}, \"type\": \"barpolar\"}], \"carpet\": [{\"aaxis\": {\"endlinecolor\": \"#2a3f5f\", \"gridcolor\": \"white\", \"linecolor\": \"white\", \"minorgridcolor\": \"white\", \"startlinecolor\": \"#2a3f5f\"}, \"baxis\": {\"endlinecolor\": \"#2a3f5f\", \"gridcolor\": \"white\", \"linecolor\": \"white\", \"minorgridcolor\": \"white\", \"startlinecolor\": \"#2a3f5f\"}, \"type\": \"carpet\"}], \"choropleth\": [{\"colorbar\": {\"outlinewidth\": 0, \"ticks\": \"\"}, \"type\": \"choropleth\"}], \"contour\": [{\"colorbar\": {\"outlinewidth\": 0, \"ticks\": \"\"}, \"colorscale\": [[0.0, \"#0d0887\"], [0.1111111111111111, \"#46039f\"], [0.2222222222222222, \"#7201a8\"], [0.3333333333333333, \"#9c179e\"], [0.4444444444444444, \"#bd3786\"], [0.5555555555555556, \"#d8576b\"], [0.6666666666666666, \"#ed7953\"], [0.7777777777777778, \"#fb9f3a\"], [0.8888888888888888, \"#fdca26\"], [1.0, \"#f0f921\"]], \"type\": \"contour\"}], \"contourcarpet\": [{\"colorbar\": {\"outlinewidth\": 0, \"ticks\": \"\"}, \"type\": \"contourcarpet\"}], \"heatmap\": [{\"colorbar\": {\"outlinewidth\": 0, \"ticks\": \"\"}, \"colorscale\": [[0.0, \"#0d0887\"], [0.1111111111111111, \"#46039f\"], [0.2222222222222222, \"#7201a8\"], [0.3333333333333333, \"#9c179e\"], [0.4444444444444444, \"#bd3786\"], [0.5555555555555556, \"#d8576b\"], [0.6666666666666666, \"#ed7953\"], [0.7777777777777778, \"#fb9f3a\"], [0.8888888888888888, \"#fdca26\"], [1.0, \"#f0f921\"]], \"type\": \"heatmap\"}], \"heatmapgl\": [{\"colorbar\": {\"outlinewidth\": 0, \"ticks\": \"\"}, \"colorscale\": [[0.0, \"#0d0887\"], [0.1111111111111111, \"#46039f\"], [0.2222222222222222, \"#7201a8\"], [0.3333333333333333, \"#9c179e\"], [0.4444444444444444, \"#bd3786\"], [0.5555555555555556, \"#d8576b\"], [0.6666666666666666, \"#ed7953\"], [0.7777777777777778, \"#fb9f3a\"], [0.8888888888888888, \"#fdca26\"], [1.0, \"#f0f921\"]], \"type\": \"heatmapgl\"}], \"histogram\": [{\"marker\": {\"colorbar\": {\"outlinewidth\": 0, \"ticks\": \"\"}}, \"type\": \"histogram\"}], \"histogram2d\": [{\"colorbar\": {\"outlinewidth\": 0, \"ticks\": \"\"}, \"colorscale\": [[0.0, \"#0d0887\"], [0.1111111111111111, \"#46039f\"], [0.2222222222222222, \"#7201a8\"], [0.3333333333333333, \"#9c179e\"], [0.4444444444444444, \"#bd3786\"], [0.5555555555555556, \"#d8576b\"], [0.6666666666666666, \"#ed7953\"], [0.7777777777777778, \"#fb9f3a\"], [0.8888888888888888, \"#fdca26\"], [1.0, \"#f0f921\"]], \"type\": \"histogram2d\"}], \"histogram2dcontour\": [{\"colorbar\": {\"outlinewidth\": 0, \"ticks\": \"\"}, \"colorscale\": [[0.0, \"#0d0887\"], [0.1111111111111111, \"#46039f\"], [0.2222222222222222, \"#7201a8\"], [0.3333333333333333, \"#9c179e\"], [0.4444444444444444, \"#bd3786\"], [0.5555555555555556, \"#d8576b\"], [0.6666666666666666, \"#ed7953\"], [0.7777777777777778, \"#fb9f3a\"], [0.8888888888888888, \"#fdca26\"], [1.0, \"#f0f921\"]], \"type\": \"histogram2dcontour\"}], \"mesh3d\": [{\"colorbar\": {\"outlinewidth\": 0, \"ticks\": \"\"}, \"type\": \"mesh3d\"}], \"parcoords\": [{\"line\": {\"colorbar\": {\"outlinewidth\": 0, \"ticks\": \"\"}}, \"type\": \"parcoords\"}], \"scatter\": [{\"marker\": {\"colorbar\": {\"outlinewidth\": 0, \"ticks\": \"\"}}, \"type\": \"scatter\"}], \"scatter3d\": [{\"line\": {\"colorbar\": {\"outlinewidth\": 0, \"ticks\": \"\"}}, \"marker\": {\"colorbar\": {\"outlinewidth\": 0, \"ticks\": \"\"}}, \"type\": \"scatter3d\"}], \"scattercarpet\": [{\"marker\": {\"colorbar\": {\"outlinewidth\": 0, \"ticks\": \"\"}}, \"type\": \"scattercarpet\"}], \"scattergeo\": [{\"marker\": {\"colorbar\": {\"outlinewidth\": 0, \"ticks\": \"\"}}, \"type\": \"scattergeo\"}], \"scattergl\": [{\"marker\": {\"colorbar\": {\"outlinewidth\": 0, \"ticks\": \"\"}}, \"type\": \"scattergl\"}], \"scattermapbox\": [{\"marker\": {\"colorbar\": {\"outlinewidth\": 0, \"ticks\": \"\"}}, \"type\": \"scattermapbox\"}], \"scatterpolar\": [{\"marker\": {\"colorbar\": {\"outlinewidth\": 0, \"ticks\": \"\"}}, \"type\": \"scatterpolar\"}], \"scatterpolargl\": [{\"marker\": {\"colorbar\": {\"outlinewidth\": 0, \"ticks\": \"\"}}, \"type\": \"scatterpolargl\"}], \"scatterternary\": [{\"marker\": {\"colorbar\": {\"outlinewidth\": 0, \"ticks\": \"\"}}, \"type\": \"scatterternary\"}], \"surface\": [{\"colorbar\": {\"outlinewidth\": 0, \"ticks\": \"\"}, \"colorscale\": [[0.0, \"#0d0887\"], [0.1111111111111111, \"#46039f\"], [0.2222222222222222, \"#7201a8\"], [0.3333333333333333, \"#9c179e\"], [0.4444444444444444, \"#bd3786\"], [0.5555555555555556, \"#d8576b\"], [0.6666666666666666, \"#ed7953\"], [0.7777777777777778, \"#fb9f3a\"], [0.8888888888888888, \"#fdca26\"], [1.0, \"#f0f921\"]], \"type\": \"surface\"}], \"table\": [{\"cells\": {\"fill\": {\"color\": \"#EBF0F8\"}, \"line\": {\"color\": \"white\"}}, \"header\": {\"fill\": {\"color\": \"#C8D4E3\"}, \"line\": {\"color\": \"white\"}}, \"type\": \"table\"}]}, \"layout\": {\"annotationdefaults\": {\"arrowcolor\": \"#2a3f5f\", \"arrowhead\": 0, \"arrowwidth\": 1}, \"colorscale\": {\"diverging\": [[0, \"#8e0152\"], [0.1, \"#c51b7d\"], [0.2, \"#de77ae\"], [0.3, \"#f1b6da\"], [0.4, \"#fde0ef\"], [0.5, \"#f7f7f7\"], [0.6, \"#e6f5d0\"], [0.7, \"#b8e186\"], [0.8, \"#7fbc41\"], [0.9, \"#4d9221\"], [1, \"#276419\"]], \"sequential\": [[0.0, \"#0d0887\"], [0.1111111111111111, \"#46039f\"], [0.2222222222222222, \"#7201a8\"], [0.3333333333333333, \"#9c179e\"], [0.4444444444444444, \"#bd3786\"], [0.5555555555555556, \"#d8576b\"], [0.6666666666666666, \"#ed7953\"], [0.7777777777777778, \"#fb9f3a\"], [0.8888888888888888, \"#fdca26\"], [1.0, \"#f0f921\"]], \"sequentialminus\": [[0.0, \"#0d0887\"], [0.1111111111111111, \"#46039f\"], [0.2222222222222222, \"#7201a8\"], [0.3333333333333333, \"#9c179e\"], [0.4444444444444444, \"#bd3786\"], [0.5555555555555556, \"#d8576b\"], [0.6666666666666666, \"#ed7953\"], [0.7777777777777778, \"#fb9f3a\"], [0.8888888888888888, \"#fdca26\"], [1.0, \"#f0f921\"]]}, \"colorway\": [\"#636efa\", \"#EF553B\", \"#00cc96\", \"#ab63fa\", \"#FFA15A\", \"#19d3f3\", \"#FF6692\", \"#B6E880\", \"#FF97FF\", \"#FECB52\"], \"font\": {\"color\": \"#2a3f5f\"}, \"geo\": {\"bgcolor\": \"white\", \"lakecolor\": \"white\", \"landcolor\": \"#E5ECF6\", \"showlakes\": true, \"showland\": true, \"subunitcolor\": \"white\"}, \"hoverlabel\": {\"align\": \"left\"}, \"hovermode\": \"closest\", \"mapbox\": {\"style\": \"light\"}, \"paper_bgcolor\": \"white\", \"plot_bgcolor\": \"#E5ECF6\", \"polar\": {\"angularaxis\": {\"gridcolor\": \"white\", \"linecolor\": \"white\", \"ticks\": \"\"}, \"bgcolor\": \"#E5ECF6\", \"radialaxis\": {\"gridcolor\": \"white\", \"linecolor\": \"white\", \"ticks\": \"\"}}, \"scene\": {\"xaxis\": {\"backgroundcolor\": \"#E5ECF6\", \"gridcolor\": \"white\", \"gridwidth\": 2, \"linecolor\": \"white\", \"showbackground\": true, \"ticks\": \"\", \"zerolinecolor\": \"white\"}, \"yaxis\": {\"backgroundcolor\": \"#E5ECF6\", \"gridcolor\": \"white\", \"gridwidth\": 2, \"linecolor\": \"white\", \"showbackground\": true, \"ticks\": \"\", \"zerolinecolor\": \"white\"}, \"zaxis\": {\"backgroundcolor\": \"#E5ECF6\", \"gridcolor\": \"white\", \"gridwidth\": 2, \"linecolor\": \"white\", \"showbackground\": true, \"ticks\": \"\", \"zerolinecolor\": \"white\"}}, \"shapedefaults\": {\"line\": {\"color\": \"#2a3f5f\"}}, \"ternary\": {\"aaxis\": {\"gridcolor\": \"white\", \"linecolor\": \"white\", \"ticks\": \"\"}, \"baxis\": {\"gridcolor\": \"white\", \"linecolor\": \"white\", \"ticks\": \"\"}, \"bgcolor\": \"#E5ECF6\", \"caxis\": {\"gridcolor\": \"white\", \"linecolor\": \"white\", \"ticks\": \"\"}}, \"title\": {\"x\": 0.05}, \"xaxis\": {\"automargin\": true, \"gridcolor\": \"white\", \"linecolor\": \"white\", \"ticks\": \"\", \"zerolinecolor\": \"white\", \"zerolinewidth\": 2}, \"yaxis\": {\"automargin\": true, \"gridcolor\": \"white\", \"linecolor\": \"white\", \"ticks\": \"\", \"zerolinecolor\": \"white\", \"zerolinewidth\": 2}}}, \"xaxis\": {\"anchor\": \"y\", \"domain\": [0.0, 0.98], \"title\": {\"text\": \"Price\"}, \"type\": \"log\"}, \"yaxis\": {\"anchor\": \"x\", \"domain\": [0.0, 1.0], \"title\": {\"text\": \"Star\"}}},\n",
       "                        {\"responsive\": true}\n",
       "                    ).then(function(){\n",
       "                            \n",
       "var gd = document.getElementById('3e810d55-7f06-4d68-a838-c2cbd04c29ab');\n",
       "var x = new MutationObserver(function (mutations, observer) {{\n",
       "        var display = window.getComputedStyle(gd).display;\n",
       "        if (!display || display === 'none') {{\n",
       "            console.log([gd, 'removed!']);\n",
       "            Plotly.purge(gd);\n",
       "            observer.disconnect();\n",
       "        }}\n",
       "}});\n",
       "\n",
       "// Listen for the removal of the full notebook cells\n",
       "var notebookContainer = gd.closest('#notebook-container');\n",
       "if (notebookContainer) {{\n",
       "    x.observe(notebookContainer, {childList: true});\n",
       "}}\n",
       "\n",
       "// Listen for the clearing of the current output cell\n",
       "var outputEl = gd.closest('.output');\n",
       "if (outputEl) {{\n",
       "    x.observe(outputEl, {childList: true});\n",
       "}}\n",
       "\n",
       "                        })\n",
       "                };\n",
       "                });\n",
       "            </script>\n",
       "        </div>"
      ]
     },
     "metadata": {},
     "output_type": "display_data"
    },
    {
     "name": "stdout",
     "output_type": "stream",
     "text": [
      "Do you want to continue to analyze? : 1 - Yes || 0 - No, that is enough information: 1\n",
      "Choose your chart:\n",
      "1 - Total products in each category\n",
      "2 - Compare total products and TIKI NOW service applied for each category\n",
      "3 - Compare total products, rating and price for each category\n",
      "Input your choose: 4\n"
     ]
    },
    {
     "data": {
      "application/vnd.plotly.v1+json": {
       "config": {
        "plotlyServerURL": "https://plot.ly"
       },
       "data": [
        {
         "marker": {
          "color": "rgba(246, 78, 139, 0.6)",
          "line": {
           "color": "rgba(246, 78, 139, 1.0)",
           "width": 3
          }
         },
         "name": "Rating",
         "orientation": "h",
         "type": "bar",
         "x": [
          4.545073152432162,
          4.397901119402985,
          4.383122964169381,
          4.381690140845071,
          4.308919627951347,
          4.25433242506812,
          4.243734643734643,
          4.217521367521368,
          4.204728506787331,
          4.190285071267817,
          4.128112100803824,
          4.064874476987447,
          3.9508602150537633,
          3.831971428571429,
          3.7851894736842104,
          3.748673870333988
         ],
         "y": [
          "Thời trang - Phụ kiện",
          "Hàng quốc tế",
          "Sách, VPP & Quà Tặng",
          "Voucher - Dịch Vụ - Thẻ Cào",
          "Hàng Tiêu Dùng - Thực Phẩm",
          "Laptop - Thiết bị IT",
          "Điện Thoại - Máy Tính Bảng",
          "Xe Máy, Ô tô, Xe Đạp",
          "Thể Thao - Dã Ngoại",
          "Làm Đẹp - Sức Khỏe",
          "Đồ chơi, Mẹ & Bé",
          "Điện Gia Dụng",
          "Điện Tử - Điện Lạnh",
          "Phụ Kiện - Thiết Bị Số",
          "Nhà Cửa Đời Sống",
          "Máy Ảnh - Quay Phim"
         ]
        },
        {
         "marker": {
          "color": "rgba(58, 71, 80, 0.6)",
          "line": {
           "color": "rgba(58, 71, 80, 1.0)",
           "width": 3
          }
         },
         "name": "Interesting",
         "orientation": "h",
         "type": "bar",
         "x": [
          4.013880205076904,
          2.017723880597015,
          21.966748099891422,
          4.610328638497653,
          4.3248270927736705,
          9.857765667574933,
          24.614250614250615,
          2.437869822485207,
          6.269230769230769,
          12.927231807951989,
          4.931566369758853,
          8.494142259414225,
          6.16989247311828,
          11.935428571428572,
          7.077263157894737,
          5.31237721021611
         ],
         "y": [
          "Thời trang - Phụ kiện",
          "Hàng quốc tế",
          "Sách, VPP & Quà Tặng",
          "Voucher - Dịch Vụ - Thẻ Cào",
          "Hàng Tiêu Dùng - Thực Phẩm",
          "Laptop - Thiết bị IT",
          "Điện Thoại - Máy Tính Bảng",
          "Xe Máy, Ô tô, Xe Đạp",
          "Thể Thao - Dã Ngoại",
          "Làm Đẹp - Sức Khỏe",
          "Đồ chơi, Mẹ & Bé",
          "Điện Gia Dụng",
          "Điện Tử - Điện Lạnh",
          "Phụ Kiện - Thiết Bị Số",
          "Nhà Cửa Đời Sống",
          "Máy Ảnh - Quay Phim"
         ]
        }
       ],
       "layout": {
        "barmode": "stack",
        "template": {
         "data": {
          "bar": [
           {
            "error_x": {
             "color": "#2a3f5f"
            },
            "error_y": {
             "color": "#2a3f5f"
            },
            "marker": {
             "line": {
              "color": "#E5ECF6",
              "width": 0.5
             }
            },
            "type": "bar"
           }
          ],
          "barpolar": [
           {
            "marker": {
             "line": {
              "color": "#E5ECF6",
              "width": 0.5
             }
            },
            "type": "barpolar"
           }
          ],
          "carpet": [
           {
            "aaxis": {
             "endlinecolor": "#2a3f5f",
             "gridcolor": "white",
             "linecolor": "white",
             "minorgridcolor": "white",
             "startlinecolor": "#2a3f5f"
            },
            "baxis": {
             "endlinecolor": "#2a3f5f",
             "gridcolor": "white",
             "linecolor": "white",
             "minorgridcolor": "white",
             "startlinecolor": "#2a3f5f"
            },
            "type": "carpet"
           }
          ],
          "choropleth": [
           {
            "colorbar": {
             "outlinewidth": 0,
             "ticks": ""
            },
            "type": "choropleth"
           }
          ],
          "contour": [
           {
            "colorbar": {
             "outlinewidth": 0,
             "ticks": ""
            },
            "colorscale": [
             [
              0,
              "#0d0887"
             ],
             [
              0.1111111111111111,
              "#46039f"
             ],
             [
              0.2222222222222222,
              "#7201a8"
             ],
             [
              0.3333333333333333,
              "#9c179e"
             ],
             [
              0.4444444444444444,
              "#bd3786"
             ],
             [
              0.5555555555555556,
              "#d8576b"
             ],
             [
              0.6666666666666666,
              "#ed7953"
             ],
             [
              0.7777777777777778,
              "#fb9f3a"
             ],
             [
              0.8888888888888888,
              "#fdca26"
             ],
             [
              1,
              "#f0f921"
             ]
            ],
            "type": "contour"
           }
          ],
          "contourcarpet": [
           {
            "colorbar": {
             "outlinewidth": 0,
             "ticks": ""
            },
            "type": "contourcarpet"
           }
          ],
          "heatmap": [
           {
            "colorbar": {
             "outlinewidth": 0,
             "ticks": ""
            },
            "colorscale": [
             [
              0,
              "#0d0887"
             ],
             [
              0.1111111111111111,
              "#46039f"
             ],
             [
              0.2222222222222222,
              "#7201a8"
             ],
             [
              0.3333333333333333,
              "#9c179e"
             ],
             [
              0.4444444444444444,
              "#bd3786"
             ],
             [
              0.5555555555555556,
              "#d8576b"
             ],
             [
              0.6666666666666666,
              "#ed7953"
             ],
             [
              0.7777777777777778,
              "#fb9f3a"
             ],
             [
              0.8888888888888888,
              "#fdca26"
             ],
             [
              1,
              "#f0f921"
             ]
            ],
            "type": "heatmap"
           }
          ],
          "heatmapgl": [
           {
            "colorbar": {
             "outlinewidth": 0,
             "ticks": ""
            },
            "colorscale": [
             [
              0,
              "#0d0887"
             ],
             [
              0.1111111111111111,
              "#46039f"
             ],
             [
              0.2222222222222222,
              "#7201a8"
             ],
             [
              0.3333333333333333,
              "#9c179e"
             ],
             [
              0.4444444444444444,
              "#bd3786"
             ],
             [
              0.5555555555555556,
              "#d8576b"
             ],
             [
              0.6666666666666666,
              "#ed7953"
             ],
             [
              0.7777777777777778,
              "#fb9f3a"
             ],
             [
              0.8888888888888888,
              "#fdca26"
             ],
             [
              1,
              "#f0f921"
             ]
            ],
            "type": "heatmapgl"
           }
          ],
          "histogram": [
           {
            "marker": {
             "colorbar": {
              "outlinewidth": 0,
              "ticks": ""
             }
            },
            "type": "histogram"
           }
          ],
          "histogram2d": [
           {
            "colorbar": {
             "outlinewidth": 0,
             "ticks": ""
            },
            "colorscale": [
             [
              0,
              "#0d0887"
             ],
             [
              0.1111111111111111,
              "#46039f"
             ],
             [
              0.2222222222222222,
              "#7201a8"
             ],
             [
              0.3333333333333333,
              "#9c179e"
             ],
             [
              0.4444444444444444,
              "#bd3786"
             ],
             [
              0.5555555555555556,
              "#d8576b"
             ],
             [
              0.6666666666666666,
              "#ed7953"
             ],
             [
              0.7777777777777778,
              "#fb9f3a"
             ],
             [
              0.8888888888888888,
              "#fdca26"
             ],
             [
              1,
              "#f0f921"
             ]
            ],
            "type": "histogram2d"
           }
          ],
          "histogram2dcontour": [
           {
            "colorbar": {
             "outlinewidth": 0,
             "ticks": ""
            },
            "colorscale": [
             [
              0,
              "#0d0887"
             ],
             [
              0.1111111111111111,
              "#46039f"
             ],
             [
              0.2222222222222222,
              "#7201a8"
             ],
             [
              0.3333333333333333,
              "#9c179e"
             ],
             [
              0.4444444444444444,
              "#bd3786"
             ],
             [
              0.5555555555555556,
              "#d8576b"
             ],
             [
              0.6666666666666666,
              "#ed7953"
             ],
             [
              0.7777777777777778,
              "#fb9f3a"
             ],
             [
              0.8888888888888888,
              "#fdca26"
             ],
             [
              1,
              "#f0f921"
             ]
            ],
            "type": "histogram2dcontour"
           }
          ],
          "mesh3d": [
           {
            "colorbar": {
             "outlinewidth": 0,
             "ticks": ""
            },
            "type": "mesh3d"
           }
          ],
          "parcoords": [
           {
            "line": {
             "colorbar": {
              "outlinewidth": 0,
              "ticks": ""
             }
            },
            "type": "parcoords"
           }
          ],
          "scatter": [
           {
            "marker": {
             "colorbar": {
              "outlinewidth": 0,
              "ticks": ""
             }
            },
            "type": "scatter"
           }
          ],
          "scatter3d": [
           {
            "line": {
             "colorbar": {
              "outlinewidth": 0,
              "ticks": ""
             }
            },
            "marker": {
             "colorbar": {
              "outlinewidth": 0,
              "ticks": ""
             }
            },
            "type": "scatter3d"
           }
          ],
          "scattercarpet": [
           {
            "marker": {
             "colorbar": {
              "outlinewidth": 0,
              "ticks": ""
             }
            },
            "type": "scattercarpet"
           }
          ],
          "scattergeo": [
           {
            "marker": {
             "colorbar": {
              "outlinewidth": 0,
              "ticks": ""
             }
            },
            "type": "scattergeo"
           }
          ],
          "scattergl": [
           {
            "marker": {
             "colorbar": {
              "outlinewidth": 0,
              "ticks": ""
             }
            },
            "type": "scattergl"
           }
          ],
          "scattermapbox": [
           {
            "marker": {
             "colorbar": {
              "outlinewidth": 0,
              "ticks": ""
             }
            },
            "type": "scattermapbox"
           }
          ],
          "scatterpolar": [
           {
            "marker": {
             "colorbar": {
              "outlinewidth": 0,
              "ticks": ""
             }
            },
            "type": "scatterpolar"
           }
          ],
          "scatterpolargl": [
           {
            "marker": {
             "colorbar": {
              "outlinewidth": 0,
              "ticks": ""
             }
            },
            "type": "scatterpolargl"
           }
          ],
          "scatterternary": [
           {
            "marker": {
             "colorbar": {
              "outlinewidth": 0,
              "ticks": ""
             }
            },
            "type": "scatterternary"
           }
          ],
          "surface": [
           {
            "colorbar": {
             "outlinewidth": 0,
             "ticks": ""
            },
            "colorscale": [
             [
              0,
              "#0d0887"
             ],
             [
              0.1111111111111111,
              "#46039f"
             ],
             [
              0.2222222222222222,
              "#7201a8"
             ],
             [
              0.3333333333333333,
              "#9c179e"
             ],
             [
              0.4444444444444444,
              "#bd3786"
             ],
             [
              0.5555555555555556,
              "#d8576b"
             ],
             [
              0.6666666666666666,
              "#ed7953"
             ],
             [
              0.7777777777777778,
              "#fb9f3a"
             ],
             [
              0.8888888888888888,
              "#fdca26"
             ],
             [
              1,
              "#f0f921"
             ]
            ],
            "type": "surface"
           }
          ],
          "table": [
           {
            "cells": {
             "fill": {
              "color": "#EBF0F8"
             },
             "line": {
              "color": "white"
             }
            },
            "header": {
             "fill": {
              "color": "#C8D4E3"
             },
             "line": {
              "color": "white"
             }
            },
            "type": "table"
           }
          ]
         },
         "layout": {
          "annotationdefaults": {
           "arrowcolor": "#2a3f5f",
           "arrowhead": 0,
           "arrowwidth": 1
          },
          "colorscale": {
           "diverging": [
            [
             0,
             "#8e0152"
            ],
            [
             0.1,
             "#c51b7d"
            ],
            [
             0.2,
             "#de77ae"
            ],
            [
             0.3,
             "#f1b6da"
            ],
            [
             0.4,
             "#fde0ef"
            ],
            [
             0.5,
             "#f7f7f7"
            ],
            [
             0.6,
             "#e6f5d0"
            ],
            [
             0.7,
             "#b8e186"
            ],
            [
             0.8,
             "#7fbc41"
            ],
            [
             0.9,
             "#4d9221"
            ],
            [
             1,
             "#276419"
            ]
           ],
           "sequential": [
            [
             0,
             "#0d0887"
            ],
            [
             0.1111111111111111,
             "#46039f"
            ],
            [
             0.2222222222222222,
             "#7201a8"
            ],
            [
             0.3333333333333333,
             "#9c179e"
            ],
            [
             0.4444444444444444,
             "#bd3786"
            ],
            [
             0.5555555555555556,
             "#d8576b"
            ],
            [
             0.6666666666666666,
             "#ed7953"
            ],
            [
             0.7777777777777778,
             "#fb9f3a"
            ],
            [
             0.8888888888888888,
             "#fdca26"
            ],
            [
             1,
             "#f0f921"
            ]
           ],
           "sequentialminus": [
            [
             0,
             "#0d0887"
            ],
            [
             0.1111111111111111,
             "#46039f"
            ],
            [
             0.2222222222222222,
             "#7201a8"
            ],
            [
             0.3333333333333333,
             "#9c179e"
            ],
            [
             0.4444444444444444,
             "#bd3786"
            ],
            [
             0.5555555555555556,
             "#d8576b"
            ],
            [
             0.6666666666666666,
             "#ed7953"
            ],
            [
             0.7777777777777778,
             "#fb9f3a"
            ],
            [
             0.8888888888888888,
             "#fdca26"
            ],
            [
             1,
             "#f0f921"
            ]
           ]
          },
          "colorway": [
           "#636efa",
           "#EF553B",
           "#00cc96",
           "#ab63fa",
           "#FFA15A",
           "#19d3f3",
           "#FF6692",
           "#B6E880",
           "#FF97FF",
           "#FECB52"
          ],
          "font": {
           "color": "#2a3f5f"
          },
          "geo": {
           "bgcolor": "white",
           "lakecolor": "white",
           "landcolor": "#E5ECF6",
           "showlakes": true,
           "showland": true,
           "subunitcolor": "white"
          },
          "hoverlabel": {
           "align": "left"
          },
          "hovermode": "closest",
          "mapbox": {
           "style": "light"
          },
          "paper_bgcolor": "white",
          "plot_bgcolor": "#E5ECF6",
          "polar": {
           "angularaxis": {
            "gridcolor": "white",
            "linecolor": "white",
            "ticks": ""
           },
           "bgcolor": "#E5ECF6",
           "radialaxis": {
            "gridcolor": "white",
            "linecolor": "white",
            "ticks": ""
           }
          },
          "scene": {
           "xaxis": {
            "backgroundcolor": "#E5ECF6",
            "gridcolor": "white",
            "gridwidth": 2,
            "linecolor": "white",
            "showbackground": true,
            "ticks": "",
            "zerolinecolor": "white"
           },
           "yaxis": {
            "backgroundcolor": "#E5ECF6",
            "gridcolor": "white",
            "gridwidth": 2,
            "linecolor": "white",
            "showbackground": true,
            "ticks": "",
            "zerolinecolor": "white"
           },
           "zaxis": {
            "backgroundcolor": "#E5ECF6",
            "gridcolor": "white",
            "gridwidth": 2,
            "linecolor": "white",
            "showbackground": true,
            "ticks": "",
            "zerolinecolor": "white"
           }
          },
          "shapedefaults": {
           "line": {
            "color": "#2a3f5f"
           }
          },
          "ternary": {
           "aaxis": {
            "gridcolor": "white",
            "linecolor": "white",
            "ticks": ""
           },
           "baxis": {
            "gridcolor": "white",
            "linecolor": "white",
            "ticks": ""
           },
           "bgcolor": "#E5ECF6",
           "caxis": {
            "gridcolor": "white",
            "linecolor": "white",
            "ticks": ""
           }
          },
          "title": {
           "x": 0.05
          },
          "xaxis": {
           "automargin": true,
           "gridcolor": "white",
           "linecolor": "white",
           "ticks": "",
           "zerolinecolor": "white",
           "zerolinewidth": 2
          },
          "yaxis": {
           "automargin": true,
           "gridcolor": "white",
           "linecolor": "white",
           "ticks": "",
           "zerolinecolor": "white",
           "zerolinewidth": 2
          }
         }
        }
       }
      },
      "text/html": [
       "<div>\n",
       "        \n",
       "        \n",
       "            <div id=\"29d0377e-0960-4f83-87e6-3f8a86bd1516\" class=\"plotly-graph-div\" style=\"height:525px; width:100%;\"></div>\n",
       "            <script type=\"text/javascript\">\n",
       "                require([\"plotly\"], function(Plotly) {\n",
       "                    window.PLOTLYENV=window.PLOTLYENV || {};\n",
       "                    \n",
       "                if (document.getElementById(\"29d0377e-0960-4f83-87e6-3f8a86bd1516\")) {\n",
       "                    Plotly.newPlot(\n",
       "                        '29d0377e-0960-4f83-87e6-3f8a86bd1516',\n",
       "                        [{\"marker\": {\"color\": \"rgba(246, 78, 139, 0.6)\", \"line\": {\"color\": \"rgba(246, 78, 139, 1.0)\", \"width\": 3}}, \"name\": \"Rating\", \"orientation\": \"h\", \"type\": \"bar\", \"x\": [4.545073152432162, 4.397901119402985, 4.383122964169381, 4.381690140845071, 4.308919627951347, 4.25433242506812, 4.243734643734643, 4.217521367521368, 4.204728506787331, 4.190285071267817, 4.128112100803824, 4.064874476987447, 3.9508602150537633, 3.831971428571429, 3.7851894736842104, 3.748673870333988], \"y\": [\"Th\\u1eddi trang - Ph\\u1ee5 ki\\u1ec7n\", \"H\\u00e0ng qu\\u1ed1c t\\u1ebf\", \"S\\u00e1ch, VPP & Qu\\u00e0 T\\u1eb7ng\", \"Voucher - D\\u1ecbch V\\u1ee5 - Th\\u1ebb C\\u00e0o\", \"H\\u00e0ng Ti\\u00eau D\\u00f9ng - Th\\u1ef1c Ph\\u1ea9m\", \"Laptop - Thi\\u1ebft b\\u1ecb IT\", \"\\u0110i\\u1ec7n Tho\\u1ea1i - M\\u00e1y T\\u00ednh B\\u1ea3ng\", \"Xe M\\u00e1y, \\u00d4 t\\u00f4, Xe \\u0110\\u1ea1p\", \"Th\\u1ec3 Thao - D\\u00e3 Ngo\\u1ea1i\", \"L\\u00e0m \\u0110\\u1eb9p - S\\u1ee9c Kh\\u1ecfe\", \"\\u0110\\u1ed3 ch\\u01a1i, M\\u1eb9 & B\\u00e9\", \"\\u0110i\\u1ec7n Gia D\\u1ee5ng\", \"\\u0110i\\u1ec7n T\\u1eed - \\u0110i\\u1ec7n L\\u1ea1nh\", \"Ph\\u1ee5 Ki\\u1ec7n - Thi\\u1ebft B\\u1ecb S\\u1ed1\", \"Nh\\u00e0 C\\u1eeda \\u0110\\u1eddi S\\u1ed1ng\", \"M\\u00e1y \\u1ea2nh - Quay Phim\"]}, {\"marker\": {\"color\": \"rgba(58, 71, 80, 0.6)\", \"line\": {\"color\": \"rgba(58, 71, 80, 1.0)\", \"width\": 3}}, \"name\": \"Interesting\", \"orientation\": \"h\", \"type\": \"bar\", \"x\": [4.013880205076904, 2.017723880597015, 21.966748099891422, 4.610328638497653, 4.3248270927736705, 9.857765667574933, 24.614250614250615, 2.437869822485207, 6.269230769230769, 12.927231807951989, 4.931566369758853, 8.494142259414225, 6.16989247311828, 11.935428571428572, 7.077263157894737, 5.31237721021611], \"y\": [\"Th\\u1eddi trang - Ph\\u1ee5 ki\\u1ec7n\", \"H\\u00e0ng qu\\u1ed1c t\\u1ebf\", \"S\\u00e1ch, VPP & Qu\\u00e0 T\\u1eb7ng\", \"Voucher - D\\u1ecbch V\\u1ee5 - Th\\u1ebb C\\u00e0o\", \"H\\u00e0ng Ti\\u00eau D\\u00f9ng - Th\\u1ef1c Ph\\u1ea9m\", \"Laptop - Thi\\u1ebft b\\u1ecb IT\", \"\\u0110i\\u1ec7n Tho\\u1ea1i - M\\u00e1y T\\u00ednh B\\u1ea3ng\", \"Xe M\\u00e1y, \\u00d4 t\\u00f4, Xe \\u0110\\u1ea1p\", \"Th\\u1ec3 Thao - D\\u00e3 Ngo\\u1ea1i\", \"L\\u00e0m \\u0110\\u1eb9p - S\\u1ee9c Kh\\u1ecfe\", \"\\u0110\\u1ed3 ch\\u01a1i, M\\u1eb9 & B\\u00e9\", \"\\u0110i\\u1ec7n Gia D\\u1ee5ng\", \"\\u0110i\\u1ec7n T\\u1eed - \\u0110i\\u1ec7n L\\u1ea1nh\", \"Ph\\u1ee5 Ki\\u1ec7n - Thi\\u1ebft B\\u1ecb S\\u1ed1\", \"Nh\\u00e0 C\\u1eeda \\u0110\\u1eddi S\\u1ed1ng\", \"M\\u00e1y \\u1ea2nh - Quay Phim\"]}],\n",
       "                        {\"barmode\": \"stack\", \"template\": {\"data\": {\"bar\": [{\"error_x\": {\"color\": \"#2a3f5f\"}, \"error_y\": {\"color\": \"#2a3f5f\"}, \"marker\": {\"line\": {\"color\": \"#E5ECF6\", \"width\": 0.5}}, \"type\": \"bar\"}], \"barpolar\": [{\"marker\": {\"line\": {\"color\": \"#E5ECF6\", \"width\": 0.5}}, \"type\": \"barpolar\"}], \"carpet\": [{\"aaxis\": {\"endlinecolor\": \"#2a3f5f\", \"gridcolor\": \"white\", \"linecolor\": \"white\", \"minorgridcolor\": \"white\", \"startlinecolor\": \"#2a3f5f\"}, \"baxis\": {\"endlinecolor\": \"#2a3f5f\", \"gridcolor\": \"white\", \"linecolor\": \"white\", \"minorgridcolor\": \"white\", \"startlinecolor\": \"#2a3f5f\"}, \"type\": \"carpet\"}], \"choropleth\": [{\"colorbar\": {\"outlinewidth\": 0, \"ticks\": \"\"}, \"type\": \"choropleth\"}], \"contour\": [{\"colorbar\": {\"outlinewidth\": 0, \"ticks\": \"\"}, \"colorscale\": [[0.0, \"#0d0887\"], [0.1111111111111111, \"#46039f\"], [0.2222222222222222, \"#7201a8\"], [0.3333333333333333, \"#9c179e\"], [0.4444444444444444, \"#bd3786\"], [0.5555555555555556, \"#d8576b\"], [0.6666666666666666, \"#ed7953\"], [0.7777777777777778, \"#fb9f3a\"], [0.8888888888888888, \"#fdca26\"], [1.0, \"#f0f921\"]], \"type\": \"contour\"}], \"contourcarpet\": [{\"colorbar\": {\"outlinewidth\": 0, \"ticks\": \"\"}, \"type\": \"contourcarpet\"}], \"heatmap\": [{\"colorbar\": {\"outlinewidth\": 0, \"ticks\": \"\"}, \"colorscale\": [[0.0, \"#0d0887\"], [0.1111111111111111, \"#46039f\"], [0.2222222222222222, \"#7201a8\"], [0.3333333333333333, \"#9c179e\"], [0.4444444444444444, \"#bd3786\"], [0.5555555555555556, \"#d8576b\"], [0.6666666666666666, \"#ed7953\"], [0.7777777777777778, \"#fb9f3a\"], [0.8888888888888888, \"#fdca26\"], [1.0, \"#f0f921\"]], \"type\": \"heatmap\"}], \"heatmapgl\": [{\"colorbar\": {\"outlinewidth\": 0, \"ticks\": \"\"}, \"colorscale\": [[0.0, \"#0d0887\"], [0.1111111111111111, \"#46039f\"], [0.2222222222222222, \"#7201a8\"], [0.3333333333333333, \"#9c179e\"], [0.4444444444444444, \"#bd3786\"], [0.5555555555555556, \"#d8576b\"], [0.6666666666666666, \"#ed7953\"], [0.7777777777777778, \"#fb9f3a\"], [0.8888888888888888, \"#fdca26\"], [1.0, \"#f0f921\"]], \"type\": \"heatmapgl\"}], \"histogram\": [{\"marker\": {\"colorbar\": {\"outlinewidth\": 0, \"ticks\": \"\"}}, \"type\": \"histogram\"}], \"histogram2d\": [{\"colorbar\": {\"outlinewidth\": 0, \"ticks\": \"\"}, \"colorscale\": [[0.0, \"#0d0887\"], [0.1111111111111111, \"#46039f\"], [0.2222222222222222, \"#7201a8\"], [0.3333333333333333, \"#9c179e\"], [0.4444444444444444, \"#bd3786\"], [0.5555555555555556, \"#d8576b\"], [0.6666666666666666, \"#ed7953\"], [0.7777777777777778, \"#fb9f3a\"], [0.8888888888888888, \"#fdca26\"], [1.0, \"#f0f921\"]], \"type\": \"histogram2d\"}], \"histogram2dcontour\": [{\"colorbar\": {\"outlinewidth\": 0, \"ticks\": \"\"}, \"colorscale\": [[0.0, \"#0d0887\"], [0.1111111111111111, \"#46039f\"], [0.2222222222222222, \"#7201a8\"], [0.3333333333333333, \"#9c179e\"], [0.4444444444444444, \"#bd3786\"], [0.5555555555555556, \"#d8576b\"], [0.6666666666666666, \"#ed7953\"], [0.7777777777777778, \"#fb9f3a\"], [0.8888888888888888, \"#fdca26\"], [1.0, \"#f0f921\"]], \"type\": \"histogram2dcontour\"}], \"mesh3d\": [{\"colorbar\": {\"outlinewidth\": 0, \"ticks\": \"\"}, \"type\": \"mesh3d\"}], \"parcoords\": [{\"line\": {\"colorbar\": {\"outlinewidth\": 0, \"ticks\": \"\"}}, \"type\": \"parcoords\"}], \"scatter\": [{\"marker\": {\"colorbar\": {\"outlinewidth\": 0, \"ticks\": \"\"}}, \"type\": \"scatter\"}], \"scatter3d\": [{\"line\": {\"colorbar\": {\"outlinewidth\": 0, \"ticks\": \"\"}}, \"marker\": {\"colorbar\": {\"outlinewidth\": 0, \"ticks\": \"\"}}, \"type\": \"scatter3d\"}], \"scattercarpet\": [{\"marker\": {\"colorbar\": {\"outlinewidth\": 0, \"ticks\": \"\"}}, \"type\": \"scattercarpet\"}], \"scattergeo\": [{\"marker\": {\"colorbar\": {\"outlinewidth\": 0, \"ticks\": \"\"}}, \"type\": \"scattergeo\"}], \"scattergl\": [{\"marker\": {\"colorbar\": {\"outlinewidth\": 0, \"ticks\": \"\"}}, \"type\": \"scattergl\"}], \"scattermapbox\": [{\"marker\": {\"colorbar\": {\"outlinewidth\": 0, \"ticks\": \"\"}}, \"type\": \"scattermapbox\"}], \"scatterpolar\": [{\"marker\": {\"colorbar\": {\"outlinewidth\": 0, \"ticks\": \"\"}}, \"type\": \"scatterpolar\"}], \"scatterpolargl\": [{\"marker\": {\"colorbar\": {\"outlinewidth\": 0, \"ticks\": \"\"}}, \"type\": \"scatterpolargl\"}], \"scatterternary\": [{\"marker\": {\"colorbar\": {\"outlinewidth\": 0, \"ticks\": \"\"}}, \"type\": \"scatterternary\"}], \"surface\": [{\"colorbar\": {\"outlinewidth\": 0, \"ticks\": \"\"}, \"colorscale\": [[0.0, \"#0d0887\"], [0.1111111111111111, \"#46039f\"], [0.2222222222222222, \"#7201a8\"], [0.3333333333333333, \"#9c179e\"], [0.4444444444444444, \"#bd3786\"], [0.5555555555555556, \"#d8576b\"], [0.6666666666666666, \"#ed7953\"], [0.7777777777777778, \"#fb9f3a\"], [0.8888888888888888, \"#fdca26\"], [1.0, \"#f0f921\"]], \"type\": \"surface\"}], \"table\": [{\"cells\": {\"fill\": {\"color\": \"#EBF0F8\"}, \"line\": {\"color\": \"white\"}}, \"header\": {\"fill\": {\"color\": \"#C8D4E3\"}, \"line\": {\"color\": \"white\"}}, \"type\": \"table\"}]}, \"layout\": {\"annotationdefaults\": {\"arrowcolor\": \"#2a3f5f\", \"arrowhead\": 0, \"arrowwidth\": 1}, \"colorscale\": {\"diverging\": [[0, \"#8e0152\"], [0.1, \"#c51b7d\"], [0.2, \"#de77ae\"], [0.3, \"#f1b6da\"], [0.4, \"#fde0ef\"], [0.5, \"#f7f7f7\"], [0.6, \"#e6f5d0\"], [0.7, \"#b8e186\"], [0.8, \"#7fbc41\"], [0.9, \"#4d9221\"], [1, \"#276419\"]], \"sequential\": [[0.0, \"#0d0887\"], [0.1111111111111111, \"#46039f\"], [0.2222222222222222, \"#7201a8\"], [0.3333333333333333, \"#9c179e\"], [0.4444444444444444, \"#bd3786\"], [0.5555555555555556, \"#d8576b\"], [0.6666666666666666, \"#ed7953\"], [0.7777777777777778, \"#fb9f3a\"], [0.8888888888888888, \"#fdca26\"], [1.0, \"#f0f921\"]], \"sequentialminus\": [[0.0, \"#0d0887\"], [0.1111111111111111, \"#46039f\"], [0.2222222222222222, \"#7201a8\"], [0.3333333333333333, \"#9c179e\"], [0.4444444444444444, \"#bd3786\"], [0.5555555555555556, \"#d8576b\"], [0.6666666666666666, \"#ed7953\"], [0.7777777777777778, \"#fb9f3a\"], [0.8888888888888888, \"#fdca26\"], [1.0, \"#f0f921\"]]}, \"colorway\": [\"#636efa\", \"#EF553B\", \"#00cc96\", \"#ab63fa\", \"#FFA15A\", \"#19d3f3\", \"#FF6692\", \"#B6E880\", \"#FF97FF\", \"#FECB52\"], \"font\": {\"color\": \"#2a3f5f\"}, \"geo\": {\"bgcolor\": \"white\", \"lakecolor\": \"white\", \"landcolor\": \"#E5ECF6\", \"showlakes\": true, \"showland\": true, \"subunitcolor\": \"white\"}, \"hoverlabel\": {\"align\": \"left\"}, \"hovermode\": \"closest\", \"mapbox\": {\"style\": \"light\"}, \"paper_bgcolor\": \"white\", \"plot_bgcolor\": \"#E5ECF6\", \"polar\": {\"angularaxis\": {\"gridcolor\": \"white\", \"linecolor\": \"white\", \"ticks\": \"\"}, \"bgcolor\": \"#E5ECF6\", \"radialaxis\": {\"gridcolor\": \"white\", \"linecolor\": \"white\", \"ticks\": \"\"}}, \"scene\": {\"xaxis\": {\"backgroundcolor\": \"#E5ECF6\", \"gridcolor\": \"white\", \"gridwidth\": 2, \"linecolor\": \"white\", \"showbackground\": true, \"ticks\": \"\", \"zerolinecolor\": \"white\"}, \"yaxis\": {\"backgroundcolor\": \"#E5ECF6\", \"gridcolor\": \"white\", \"gridwidth\": 2, \"linecolor\": \"white\", \"showbackground\": true, \"ticks\": \"\", \"zerolinecolor\": \"white\"}, \"zaxis\": {\"backgroundcolor\": \"#E5ECF6\", \"gridcolor\": \"white\", \"gridwidth\": 2, \"linecolor\": \"white\", \"showbackground\": true, \"ticks\": \"\", \"zerolinecolor\": \"white\"}}, \"shapedefaults\": {\"line\": {\"color\": \"#2a3f5f\"}}, \"ternary\": {\"aaxis\": {\"gridcolor\": \"white\", \"linecolor\": \"white\", \"ticks\": \"\"}, \"baxis\": {\"gridcolor\": \"white\", \"linecolor\": \"white\", \"ticks\": \"\"}, \"bgcolor\": \"#E5ECF6\", \"caxis\": {\"gridcolor\": \"white\", \"linecolor\": \"white\", \"ticks\": \"\"}}, \"title\": {\"x\": 0.05}, \"xaxis\": {\"automargin\": true, \"gridcolor\": \"white\", \"linecolor\": \"white\", \"ticks\": \"\", \"zerolinecolor\": \"white\", \"zerolinewidth\": 2}, \"yaxis\": {\"automargin\": true, \"gridcolor\": \"white\", \"linecolor\": \"white\", \"ticks\": \"\", \"zerolinecolor\": \"white\", \"zerolinewidth\": 2}}}},\n",
       "                        {\"responsive\": true}\n",
       "                    ).then(function(){\n",
       "                            \n",
       "var gd = document.getElementById('29d0377e-0960-4f83-87e6-3f8a86bd1516');\n",
       "var x = new MutationObserver(function (mutations, observer) {{\n",
       "        var display = window.getComputedStyle(gd).display;\n",
       "        if (!display || display === 'none') {{\n",
       "            console.log([gd, 'removed!']);\n",
       "            Plotly.purge(gd);\n",
       "            observer.disconnect();\n",
       "        }}\n",
       "}});\n",
       "\n",
       "// Listen for the removal of the full notebook cells\n",
       "var notebookContainer = gd.closest('#notebook-container');\n",
       "if (notebookContainer) {{\n",
       "    x.observe(notebookContainer, {childList: true});\n",
       "}}\n",
       "\n",
       "// Listen for the clearing of the current output cell\n",
       "var outputEl = gd.closest('.output');\n",
       "if (outputEl) {{\n",
       "    x.observe(outputEl, {childList: true});\n",
       "}}\n",
       "\n",
       "                        })\n",
       "                };\n",
       "                });\n",
       "            </script>\n",
       "        </div>"
      ]
     },
     "metadata": {},
     "output_type": "display_data"
    },
    {
     "name": "stdout",
     "output_type": "stream",
     "text": [
      "Do you want to continue to analyze? : 1 - Yes || 0 - No, that is enough information: 0\n"
     ]
    },
    {
     "data": {
      "text/plain": [
       "<Figure size 1440x1440 with 0 Axes>"
      ]
     },
     "metadata": {},
     "output_type": "display_data"
    },
    {
     "data": {
      "text/plain": [
       "<Figure size 1440x1440 with 0 Axes>"
      ]
     },
     "metadata": {},
     "output_type": "display_data"
    },
    {
     "data": {
      "text/plain": [
       "<Figure size 1440x1440 with 0 Axes>"
      ]
     },
     "metadata": {},
     "output_type": "display_data"
    },
    {
     "data": {
      "text/plain": [
       "<Figure size 1440x1440 with 0 Axes>"
      ]
     },
     "metadata": {},
     "output_type": "display_data"
    }
   ],
   "source": [
    "select_data_from_db()"
   ]
  }
 ],
 "metadata": {
  "kernelspec": {
   "display_name": "Python 3",
   "language": "python",
   "name": "python3"
  },
  "language_info": {
   "codemirror_mode": {
    "name": "ipython",
    "version": 3
   },
   "file_extension": ".py",
   "mimetype": "text/x-python",
   "name": "python",
   "nbconvert_exporter": "python",
   "pygments_lexer": "ipython3",
   "version": "3.7.3"
  }
 },
 "nbformat": 4,
 "nbformat_minor": 2
}
